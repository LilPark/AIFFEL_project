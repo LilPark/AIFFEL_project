{
 "cells": [
  {
   "cell_type": "markdown",
   "id": "removable-letters",
   "metadata": {},
   "source": [
    "# [E09] Movie Recommendation\n",
    "  \n",
    "### 목차\n",
    "1. 데이터 준비 및 전처리\n",
    "2. 데이터 분석\n",
    "3. 선호하는 영화 추가\n",
    "4. CSR matrix 생성\n",
    "5. 모델 설계 및 훈련\n",
    "6. 훈련된 모델이 예측한 나의 선호도\n",
    "7. 내가 좋아하는 영화와 비슷한 영화 추천\n",
    "8. 내가 좋아할 만한 영화 추천\n",
    "9. 회고\n",
    "\n",
    "   \n",
    "   ---\n",
    "   \n",
    "### 루브릭 평가 기준\n",
    "1. CSR matrix가 정상적으로 만들어졌다.\n",
    "    * 사용자와 아이템 갯수를 바탕으로 정확한 사이즈로 만들었다.\n",
    "2. MF 모델이 정상적으로 훈련되어 그럴듯한 추천이 이루어졌다.\n",
    "    * 사용자와 아이템 백터 내적 수치가 의미있게 형성되었다.\n",
    "3. 비슷한 영화 찾기와 유저에게 추천하기의 과정이 정상적으로 진행되었다.\n",
    "    * MF 모델이 예측한 유저 선호도 및 아이템간 유사도, 기여도가 의미있게 측정되었다."
   ]
  },
  {
   "cell_type": "markdown",
   "id": "endless-clinton",
   "metadata": {},
   "source": [
    "## 1. 데이터 준비 및 전처리"
   ]
  },
  {
   "cell_type": "code",
   "execution_count": 1,
   "id": "cloudy-cable",
   "metadata": {},
   "outputs": [
    {
     "data": {
      "text/html": [
       "<div>\n",
       "<style scoped>\n",
       "    .dataframe tbody tr th:only-of-type {\n",
       "        vertical-align: middle;\n",
       "    }\n",
       "\n",
       "    .dataframe tbody tr th {\n",
       "        vertical-align: top;\n",
       "    }\n",
       "\n",
       "    .dataframe thead th {\n",
       "        text-align: right;\n",
       "    }\n",
       "</style>\n",
       "<table border=\"1\" class=\"dataframe\">\n",
       "  <thead>\n",
       "    <tr style=\"text-align: right;\">\n",
       "      <th></th>\n",
       "      <th>user_id</th>\n",
       "      <th>movie_id</th>\n",
       "      <th>rating</th>\n",
       "      <th>timestamp</th>\n",
       "    </tr>\n",
       "  </thead>\n",
       "  <tbody>\n",
       "    <tr>\n",
       "      <th>0</th>\n",
       "      <td>1</td>\n",
       "      <td>1193</td>\n",
       "      <td>5</td>\n",
       "      <td>978300760</td>\n",
       "    </tr>\n",
       "    <tr>\n",
       "      <th>1</th>\n",
       "      <td>1</td>\n",
       "      <td>661</td>\n",
       "      <td>3</td>\n",
       "      <td>978302109</td>\n",
       "    </tr>\n",
       "    <tr>\n",
       "      <th>2</th>\n",
       "      <td>1</td>\n",
       "      <td>914</td>\n",
       "      <td>3</td>\n",
       "      <td>978301968</td>\n",
       "    </tr>\n",
       "    <tr>\n",
       "      <th>3</th>\n",
       "      <td>1</td>\n",
       "      <td>3408</td>\n",
       "      <td>4</td>\n",
       "      <td>978300275</td>\n",
       "    </tr>\n",
       "    <tr>\n",
       "      <th>4</th>\n",
       "      <td>1</td>\n",
       "      <td>2355</td>\n",
       "      <td>5</td>\n",
       "      <td>978824291</td>\n",
       "    </tr>\n",
       "  </tbody>\n",
       "</table>\n",
       "</div>"
      ],
      "text/plain": [
       "   user_id  movie_id  rating  timestamp\n",
       "0        1      1193       5  978300760\n",
       "1        1       661       3  978302109\n",
       "2        1       914       3  978301968\n",
       "3        1      3408       4  978300275\n",
       "4        1      2355       5  978824291"
      ]
     },
     "execution_count": 1,
     "metadata": {},
     "output_type": "execute_result"
    }
   ],
   "source": [
    "import pandas as pd\n",
    "import os\n",
    "\n",
    "rating_file_path=os.getenv('HOME') + '/aiffel/recommendata_iu/data/ml-1m/ratings.dat'\n",
    "ratings_cols = ['user_id', 'movie_id', 'rating', 'timestamp']\n",
    "ratings = pd.read_csv(rating_file_path, sep='::', names=ratings_cols, engine='python', encoding = \"ISO-8859-1\")\n",
    "orginal_data_size = len(ratings)\n",
    "ratings.head()"
   ]
  },
  {
   "cell_type": "markdown",
   "id": "entertaining-branch",
   "metadata": {},
   "source": [
    "* Movielens 데이터의 내용 불러오기\n",
    "* ratings.dat 파일에는 user_id, movie_id, rating, timestamp column들이 존재"
   ]
  },
  {
   "cell_type": "code",
   "execution_count": 2,
   "id": "impressed-horse",
   "metadata": {},
   "outputs": [
    {
     "name": "stdout",
     "output_type": "stream",
     "text": [
      "orginal_data_size: 1000209, filtered_data_size: 836478\n",
      "Ratio of Remaining Data is 83.63%\n"
     ]
    }
   ],
   "source": [
    "ratings = ratings[ratings['rating']>=3]\n",
    "filtered_data_size = len(ratings)\n",
    "\n",
    "print(f'orginal_data_size: {orginal_data_size}, filtered_data_size: {filtered_data_size}')\n",
    "print(f'Ratio of Remaining Data is {filtered_data_size / orginal_data_size:.2%}')"
   ]
  },
  {
   "cell_type": "markdown",
   "id": "republican-success",
   "metadata": {},
   "source": [
    "* 평점이 3점 이상인 movie들만 남김\n",
    "* 1,000,209개의 영화 중, 836,478개의 영화만 평점이 3점 이상 (약 83.63%)"
   ]
  },
  {
   "cell_type": "code",
   "execution_count": 3,
   "id": "ordinary-anxiety",
   "metadata": {},
   "outputs": [
    {
     "data": {
      "text/plain": [
       "0          5\n",
       "1          3\n",
       "2          3\n",
       "3          4\n",
       "4          5\n",
       "          ..\n",
       "1000203    3\n",
       "1000205    5\n",
       "1000206    5\n",
       "1000207    4\n",
       "1000208    4\n",
       "Name: count, Length: 836478, dtype: int64"
      ]
     },
     "execution_count": 3,
     "metadata": {},
     "output_type": "execute_result"
    }
   ],
   "source": [
    "ratings.rename(columns={'rating':'count'}, inplace=True)\n",
    "ratings['count']"
   ]
  },
  {
   "cell_type": "markdown",
   "id": "advisory-monday",
   "metadata": {},
   "source": [
    "* rating column의 이름을 count로 변경"
   ]
  },
  {
   "cell_type": "code",
   "execution_count": 4,
   "id": "conventional-banks",
   "metadata": {},
   "outputs": [
    {
     "data": {
      "text/html": [
       "<div>\n",
       "<style scoped>\n",
       "    .dataframe tbody tr th:only-of-type {\n",
       "        vertical-align: middle;\n",
       "    }\n",
       "\n",
       "    .dataframe tbody tr th {\n",
       "        vertical-align: top;\n",
       "    }\n",
       "\n",
       "    .dataframe thead th {\n",
       "        text-align: right;\n",
       "    }\n",
       "</style>\n",
       "<table border=\"1\" class=\"dataframe\">\n",
       "  <thead>\n",
       "    <tr style=\"text-align: right;\">\n",
       "      <th></th>\n",
       "      <th>movie_id</th>\n",
       "      <th>title</th>\n",
       "      <th>genre</th>\n",
       "    </tr>\n",
       "  </thead>\n",
       "  <tbody>\n",
       "    <tr>\n",
       "      <th>0</th>\n",
       "      <td>1</td>\n",
       "      <td>Toy Story (1995)</td>\n",
       "      <td>Animation|Children's|Comedy</td>\n",
       "    </tr>\n",
       "    <tr>\n",
       "      <th>1</th>\n",
       "      <td>2</td>\n",
       "      <td>Jumanji (1995)</td>\n",
       "      <td>Adventure|Children's|Fantasy</td>\n",
       "    </tr>\n",
       "    <tr>\n",
       "      <th>2</th>\n",
       "      <td>3</td>\n",
       "      <td>Grumpier Old Men (1995)</td>\n",
       "      <td>Comedy|Romance</td>\n",
       "    </tr>\n",
       "    <tr>\n",
       "      <th>3</th>\n",
       "      <td>4</td>\n",
       "      <td>Waiting to Exhale (1995)</td>\n",
       "      <td>Comedy|Drama</td>\n",
       "    </tr>\n",
       "    <tr>\n",
       "      <th>4</th>\n",
       "      <td>5</td>\n",
       "      <td>Father of the Bride Part II (1995)</td>\n",
       "      <td>Comedy</td>\n",
       "    </tr>\n",
       "  </tbody>\n",
       "</table>\n",
       "</div>"
      ],
      "text/plain": [
       "   movie_id                               title                         genre\n",
       "0         1                    Toy Story (1995)   Animation|Children's|Comedy\n",
       "1         2                      Jumanji (1995)  Adventure|Children's|Fantasy\n",
       "2         3             Grumpier Old Men (1995)                Comedy|Romance\n",
       "3         4            Waiting to Exhale (1995)                  Comedy|Drama\n",
       "4         5  Father of the Bride Part II (1995)                        Comedy"
      ]
     },
     "execution_count": 4,
     "metadata": {},
     "output_type": "execute_result"
    }
   ],
   "source": [
    "movie_file_path=os.getenv('HOME') + '/aiffel/recommendata_iu/data/ml-1m/movies.dat'\n",
    "cols = ['movie_id', 'title', 'genre'] \n",
    "movies = pd.read_csv(movie_file_path, sep='::', names=cols, engine='python', encoding='ISO-8859-1')\n",
    "movies.head()"
   ]
  },
  {
   "cell_type": "markdown",
   "id": "fresh-agreement",
   "metadata": {},
   "source": [
    "* movie_id에 해당하는 영화가 무엇인지 확인하기 위해서, movies.dat 파일을 불러옴"
   ]
  },
  {
   "cell_type": "code",
   "execution_count": 5,
   "id": "sought-crack",
   "metadata": {},
   "outputs": [
    {
     "data": {
      "text/html": [
       "<div>\n",
       "<style scoped>\n",
       "    .dataframe tbody tr th:only-of-type {\n",
       "        vertical-align: middle;\n",
       "    }\n",
       "\n",
       "    .dataframe tbody tr th {\n",
       "        vertical-align: top;\n",
       "    }\n",
       "\n",
       "    .dataframe thead th {\n",
       "        text-align: right;\n",
       "    }\n",
       "</style>\n",
       "<table border=\"1\" class=\"dataframe\">\n",
       "  <thead>\n",
       "    <tr style=\"text-align: right;\">\n",
       "      <th></th>\n",
       "      <th>user_id</th>\n",
       "      <th>movie_id</th>\n",
       "      <th>count</th>\n",
       "      <th>timestamp</th>\n",
       "      <th>title</th>\n",
       "      <th>genre</th>\n",
       "    </tr>\n",
       "  </thead>\n",
       "  <tbody>\n",
       "    <tr>\n",
       "      <th>0</th>\n",
       "      <td>1</td>\n",
       "      <td>1193</td>\n",
       "      <td>5</td>\n",
       "      <td>978300760</td>\n",
       "      <td>One Flew Over the Cuckoo's Nest (1975)</td>\n",
       "      <td>Drama</td>\n",
       "    </tr>\n",
       "    <tr>\n",
       "      <th>1</th>\n",
       "      <td>1</td>\n",
       "      <td>661</td>\n",
       "      <td>3</td>\n",
       "      <td>978302109</td>\n",
       "      <td>James and the Giant Peach (1996)</td>\n",
       "      <td>Animation|Children's|Musical</td>\n",
       "    </tr>\n",
       "    <tr>\n",
       "      <th>2</th>\n",
       "      <td>1</td>\n",
       "      <td>914</td>\n",
       "      <td>3</td>\n",
       "      <td>978301968</td>\n",
       "      <td>My Fair Lady (1964)</td>\n",
       "      <td>Musical|Romance</td>\n",
       "    </tr>\n",
       "    <tr>\n",
       "      <th>3</th>\n",
       "      <td>1</td>\n",
       "      <td>3408</td>\n",
       "      <td>4</td>\n",
       "      <td>978300275</td>\n",
       "      <td>Erin Brockovich (2000)</td>\n",
       "      <td>Drama</td>\n",
       "    </tr>\n",
       "    <tr>\n",
       "      <th>4</th>\n",
       "      <td>1</td>\n",
       "      <td>2355</td>\n",
       "      <td>5</td>\n",
       "      <td>978824291</td>\n",
       "      <td>Bug's Life, A (1998)</td>\n",
       "      <td>Animation|Children's|Comedy</td>\n",
       "    </tr>\n",
       "  </tbody>\n",
       "</table>\n",
       "</div>"
      ],
      "text/plain": [
       "   user_id  movie_id  count  timestamp  \\\n",
       "0        1      1193      5  978300760   \n",
       "1        1       661      3  978302109   \n",
       "2        1       914      3  978301968   \n",
       "3        1      3408      4  978300275   \n",
       "4        1      2355      5  978824291   \n",
       "\n",
       "                                    title                         genre  \n",
       "0  One Flew Over the Cuckoo's Nest (1975)                         Drama  \n",
       "1        James and the Giant Peach (1996)  Animation|Children's|Musical  \n",
       "2                     My Fair Lady (1964)               Musical|Romance  \n",
       "3                  Erin Brockovich (2000)                         Drama  \n",
       "4                    Bug's Life, A (1998)   Animation|Children's|Comedy  "
      ]
     },
     "execution_count": 5,
     "metadata": {},
     "output_type": "execute_result"
    }
   ],
   "source": [
    "ratings = ratings.join(movies.set_index('movie_id'), on='movie_id')\n",
    "ratings.head()"
   ]
  },
  {
   "cell_type": "markdown",
   "id": "fifteen-soldier",
   "metadata": {},
   "source": [
    "* ratings dataframe과 movies dataframe 합치기"
   ]
  },
  {
   "cell_type": "code",
   "execution_count": 6,
   "id": "noble-soldier",
   "metadata": {},
   "outputs": [
    {
     "data": {
      "text/html": [
       "<div>\n",
       "<style scoped>\n",
       "    .dataframe tbody tr th:only-of-type {\n",
       "        vertical-align: middle;\n",
       "    }\n",
       "\n",
       "    .dataframe tbody tr th {\n",
       "        vertical-align: top;\n",
       "    }\n",
       "\n",
       "    .dataframe thead th {\n",
       "        text-align: right;\n",
       "    }\n",
       "</style>\n",
       "<table border=\"1\" class=\"dataframe\">\n",
       "  <thead>\n",
       "    <tr style=\"text-align: right;\">\n",
       "      <th></th>\n",
       "      <th>user_id</th>\n",
       "      <th>movie_id</th>\n",
       "      <th>count</th>\n",
       "      <th>title</th>\n",
       "    </tr>\n",
       "  </thead>\n",
       "  <tbody>\n",
       "    <tr>\n",
       "      <th>0</th>\n",
       "      <td>1</td>\n",
       "      <td>1193</td>\n",
       "      <td>5</td>\n",
       "      <td>One Flew Over the Cuckoo's Nest (1975)</td>\n",
       "    </tr>\n",
       "    <tr>\n",
       "      <th>1</th>\n",
       "      <td>1</td>\n",
       "      <td>661</td>\n",
       "      <td>3</td>\n",
       "      <td>James and the Giant Peach (1996)</td>\n",
       "    </tr>\n",
       "    <tr>\n",
       "      <th>2</th>\n",
       "      <td>1</td>\n",
       "      <td>914</td>\n",
       "      <td>3</td>\n",
       "      <td>My Fair Lady (1964)</td>\n",
       "    </tr>\n",
       "    <tr>\n",
       "      <th>3</th>\n",
       "      <td>1</td>\n",
       "      <td>3408</td>\n",
       "      <td>4</td>\n",
       "      <td>Erin Brockovich (2000)</td>\n",
       "    </tr>\n",
       "    <tr>\n",
       "      <th>4</th>\n",
       "      <td>1</td>\n",
       "      <td>2355</td>\n",
       "      <td>5</td>\n",
       "      <td>Bug's Life, A (1998)</td>\n",
       "    </tr>\n",
       "  </tbody>\n",
       "</table>\n",
       "</div>"
      ],
      "text/plain": [
       "   user_id  movie_id  count                                   title\n",
       "0        1      1193      5  One Flew Over the Cuckoo's Nest (1975)\n",
       "1        1       661      3        James and the Giant Peach (1996)\n",
       "2        1       914      3                     My Fair Lady (1964)\n",
       "3        1      3408      4                  Erin Brockovich (2000)\n",
       "4        1      2355      5                    Bug's Life, A (1998)"
      ]
     },
     "execution_count": 6,
     "metadata": {},
     "output_type": "execute_result"
    }
   ],
   "source": [
    "ratings = ratings.drop(columns=['timestamp', 'genre'])\n",
    "ratings.head()"
   ]
  },
  {
   "cell_type": "markdown",
   "id": "fatal-municipality",
   "metadata": {},
   "source": [
    "* timestamp, gerne column은 불필요하므로, 삭제"
   ]
  },
  {
   "cell_type": "markdown",
   "id": "textile-simon",
   "metadata": {},
   "source": [
    "## 2. 데이터 분석"
   ]
  },
  {
   "cell_type": "code",
   "execution_count": 7,
   "id": "conventional-modern",
   "metadata": {},
   "outputs": [
    {
     "name": "stdout",
     "output_type": "stream",
     "text": [
      "# of movie_id:  3628\n",
      "# of title   :  3628\n",
      "# of user_id :  6039\n"
     ]
    }
   ],
   "source": [
    "print('# of movie_id: ', ratings['movie_id'].nunique())\n",
    "print('# of title   : ', ratings['title'].nunique())\n",
    "print('# of user_id : ', ratings['user_id'].nunique())"
   ]
  },
  {
   "cell_type": "markdown",
   "id": "solid-theta",
   "metadata": {},
   "source": [
    "* ratings에 존재하는 유니크한 영화 갯수, 영화 제목 수, 사용자 수를 출력"
   ]
  },
  {
   "cell_type": "code",
   "execution_count": 8,
   "id": "framed-planet",
   "metadata": {},
   "outputs": [
    {
     "data": {
      "text/plain": [
       "title\n",
       "American Beauty (1999)                                   3211\n",
       "Star Wars: Episode IV - A New Hope (1977)                2910\n",
       "Star Wars: Episode V - The Empire Strikes Back (1980)    2885\n",
       "Star Wars: Episode VI - Return of the Jedi (1983)        2716\n",
       "Saving Private Ryan (1998)                               2561\n",
       "Terminator 2: Judgment Day (1991)                        2509\n",
       "Silence of the Lambs, The (1991)                         2498\n",
       "Raiders of the Lost Ark (1981)                           2473\n",
       "Back to the Future (1985)                                2460\n",
       "Matrix, The (1999)                                       2434\n",
       "Jurassic Park (1993)                                     2413\n",
       "Sixth Sense, The (1999)                                  2385\n",
       "Fargo (1996)                                             2371\n",
       "Braveheart (1995)                                        2314\n",
       "Men in Black (1997)                                      2297\n",
       "Schindler's List (1993)                                  2257\n",
       "Princess Bride, The (1987)                               2252\n",
       "Shakespeare in Love (1998)                               2213\n",
       "L.A. Confidential (1997)                                 2210\n",
       "Shawshank Redemption, The (1994)                         2194\n",
       "Godfather, The (1972)                                    2167\n",
       "Groundhog Day (1993)                                     2121\n",
       "E.T. the Extra-Terrestrial (1982)                        2102\n",
       "Being John Malkovich (1999)                              2066\n",
       "Ghostbusters (1984)                                      2051\n",
       "Pulp Fiction (1994)                                      2030\n",
       "Forrest Gump (1994)                                      2022\n",
       "Terminator, The (1984)                                   2019\n",
       "Toy Story (1995)                                         2000\n",
       "Fugitive, The (1993)                                     1941\n",
       "Name: user_id, dtype: int64"
      ]
     },
     "execution_count": 8,
     "metadata": {},
     "output_type": "execute_result"
    }
   ],
   "source": [
    "movie_count = ratings.groupby('title')['user_id'].count()\n",
    "movie_count.sort_values(ascending=False).head(30)"
   ]
  },
  {
   "cell_type": "markdown",
   "id": "equal-cleveland",
   "metadata": {},
   "source": [
    "* 사용자들이 많이 본 영화 30개 출력\n",
    "* 가장 인기 있는 영화로 판단"
   ]
  },
  {
   "cell_type": "code",
   "execution_count": 9,
   "id": "textile-arthur",
   "metadata": {},
   "outputs": [
    {
     "data": {
      "text/plain": [
       "count    6039.000000\n",
       "mean      138.512668\n",
       "std       156.241599\n",
       "min         1.000000\n",
       "25%        38.000000\n",
       "50%        81.000000\n",
       "75%       177.000000\n",
       "max      1968.000000\n",
       "Name: movie_id, dtype: float64"
      ]
     },
     "execution_count": 9,
     "metadata": {},
     "output_type": "execute_result"
    }
   ],
   "source": [
    "user_count = ratings.groupby('user_id')['movie_id'].count()\n",
    "user_count.describe()"
   ]
  },
  {
   "cell_type": "markdown",
   "id": "antique-courtesy",
   "metadata": {},
   "source": [
    "* 유저 별 몇 편의 영화를 봤는지 통계 확인"
   ]
  },
  {
   "cell_type": "markdown",
   "id": "falling-tiger",
   "metadata": {},
   "source": [
    "## 3. 선호하는 영화 추가"
   ]
  },
  {
   "cell_type": "code",
   "execution_count": 10,
   "id": "qualified-swimming",
   "metadata": {},
   "outputs": [
    {
     "data": {
      "text/html": [
       "<div>\n",
       "<style scoped>\n",
       "    .dataframe tbody tr th:only-of-type {\n",
       "        vertical-align: middle;\n",
       "    }\n",
       "\n",
       "    .dataframe tbody tr th {\n",
       "        vertical-align: top;\n",
       "    }\n",
       "\n",
       "    .dataframe thead th {\n",
       "        text-align: right;\n",
       "    }\n",
       "</style>\n",
       "<table border=\"1\" class=\"dataframe\">\n",
       "  <thead>\n",
       "    <tr style=\"text-align: right;\">\n",
       "      <th></th>\n",
       "      <th>movie_id</th>\n",
       "      <th>title</th>\n",
       "      <th>genre</th>\n",
       "    </tr>\n",
       "  </thead>\n",
       "  <tbody>\n",
       "    <tr>\n",
       "      <th>516</th>\n",
       "      <td>520</td>\n",
       "      <td>Robin Hood: Men in Tights (1993)</td>\n",
       "      <td>Comedy</td>\n",
       "    </tr>\n",
       "    <tr>\n",
       "      <th>1539</th>\n",
       "      <td>1580</td>\n",
       "      <td>Men in Black (1997)</td>\n",
       "      <td>Action|Adventure|Comedy|Sci-Fi</td>\n",
       "    </tr>\n",
       "  </tbody>\n",
       "</table>\n",
       "</div>"
      ],
      "text/plain": [
       "      movie_id                             title  \\\n",
       "516        520  Robin Hood: Men in Tights (1993)   \n",
       "1539      1580               Men in Black (1997)   \n",
       "\n",
       "                               genre  \n",
       "516                           Comedy  \n",
       "1539  Action|Adventure|Comedy|Sci-Fi  "
      ]
     },
     "execution_count": 10,
     "metadata": {},
     "output_type": "execute_result"
    }
   ],
   "source": [
    "movies[movies['title'].str.lower().str.contains('men in', regex=False)]"
   ]
  },
  {
   "cell_type": "markdown",
   "id": "governing-mambo",
   "metadata": {},
   "source": [
    "* 영화 제목을 키워드로 검색"
   ]
  },
  {
   "cell_type": "code",
   "execution_count": 11,
   "id": "increased-snapshot",
   "metadata": {},
   "outputs": [
    {
     "data": {
      "text/html": [
       "<div>\n",
       "<style scoped>\n",
       "    .dataframe tbody tr th:only-of-type {\n",
       "        vertical-align: middle;\n",
       "    }\n",
       "\n",
       "    .dataframe tbody tr th {\n",
       "        vertical-align: top;\n",
       "    }\n",
       "\n",
       "    .dataframe thead th {\n",
       "        text-align: right;\n",
       "    }\n",
       "</style>\n",
       "<table border=\"1\" class=\"dataframe\">\n",
       "  <thead>\n",
       "    <tr style=\"text-align: right;\">\n",
       "      <th></th>\n",
       "      <th>user_id</th>\n",
       "      <th>movie_id</th>\n",
       "      <th>count</th>\n",
       "      <th>title</th>\n",
       "    </tr>\n",
       "  </thead>\n",
       "  <tbody>\n",
       "    <tr>\n",
       "      <th>0</th>\n",
       "      <td>lil_park</td>\n",
       "      <td>1240</td>\n",
       "      <td>5</td>\n",
       "      <td>Terminator, The (1984)</td>\n",
       "    </tr>\n",
       "    <tr>\n",
       "      <th>1</th>\n",
       "      <td>lil_park</td>\n",
       "      <td>2571</td>\n",
       "      <td>5</td>\n",
       "      <td>Matrix, The (1999)</td>\n",
       "    </tr>\n",
       "    <tr>\n",
       "      <th>2</th>\n",
       "      <td>lil_park</td>\n",
       "      <td>1580</td>\n",
       "      <td>5</td>\n",
       "      <td>Men in Black (1997)</td>\n",
       "    </tr>\n",
       "    <tr>\n",
       "      <th>3</th>\n",
       "      <td>lil_park</td>\n",
       "      <td>648</td>\n",
       "      <td>5</td>\n",
       "      <td>Mission: Impossible (1996)</td>\n",
       "    </tr>\n",
       "    <tr>\n",
       "      <th>4</th>\n",
       "      <td>lil_park</td>\n",
       "      <td>3623</td>\n",
       "      <td>5</td>\n",
       "      <td>Mission: Impossible 2 (2000)</td>\n",
       "    </tr>\n",
       "  </tbody>\n",
       "</table>\n",
       "</div>"
      ],
      "text/plain": [
       "    user_id  movie_id  count                         title\n",
       "0  lil_park      1240      5        Terminator, The (1984)\n",
       "1  lil_park      2571      5            Matrix, The (1999)\n",
       "2  lil_park      1580      5           Men in Black (1997)\n",
       "3  lil_park       648      5    Mission: Impossible (1996)\n",
       "4  lil_park      3623      5  Mission: Impossible 2 (2000)"
      ]
     },
     "execution_count": 11,
     "metadata": {},
     "output_type": "execute_result"
    }
   ],
   "source": [
    "my_favorite_id = [1240, 2571, 1580 , 648, 3623]\n",
    "\n",
    "my_favorite_title = []\n",
    "for i in my_favorite_id:\n",
    "    my_favorite_title.extend(list(movies[movies['movie_id'] == i]['title']))\n",
    "\n",
    "my_movielist = pd.DataFrame({'user_id': ['lil_park']*5, 'movie_id': my_favorite_id, 'count': [5]*5, 'title': my_favorite_title})\n",
    "my_movielist"
   ]
  },
  {
   "cell_type": "markdown",
   "id": "fourth-hollow",
   "metadata": {},
   "source": [
    "* 내가 좋아하는 영화 5편을 선정하여 id와 title 리스트 만들기\n",
    "* user_id = lil_park, 각각의 영화를 5번씩 봤다고 가정"
   ]
  },
  {
   "cell_type": "code",
   "execution_count": 12,
   "id": "spectacular-premiere",
   "metadata": {},
   "outputs": [
    {
     "data": {
      "text/html": [
       "<div>\n",
       "<style scoped>\n",
       "    .dataframe tbody tr th:only-of-type {\n",
       "        vertical-align: middle;\n",
       "    }\n",
       "\n",
       "    .dataframe tbody tr th {\n",
       "        vertical-align: top;\n",
       "    }\n",
       "\n",
       "    .dataframe thead th {\n",
       "        text-align: right;\n",
       "    }\n",
       "</style>\n",
       "<table border=\"1\" class=\"dataframe\">\n",
       "  <thead>\n",
       "    <tr style=\"text-align: right;\">\n",
       "      <th></th>\n",
       "      <th>user_id</th>\n",
       "      <th>movie_id</th>\n",
       "      <th>count</th>\n",
       "      <th>title</th>\n",
       "    </tr>\n",
       "  </thead>\n",
       "  <tbody>\n",
       "    <tr>\n",
       "      <th>836473</th>\n",
       "      <td>6040</td>\n",
       "      <td>1090</td>\n",
       "      <td>3</td>\n",
       "      <td>Platoon (1986)</td>\n",
       "    </tr>\n",
       "    <tr>\n",
       "      <th>836474</th>\n",
       "      <td>6040</td>\n",
       "      <td>1094</td>\n",
       "      <td>5</td>\n",
       "      <td>Crying Game, The (1992)</td>\n",
       "    </tr>\n",
       "    <tr>\n",
       "      <th>836475</th>\n",
       "      <td>6040</td>\n",
       "      <td>562</td>\n",
       "      <td>5</td>\n",
       "      <td>Welcome to the Dollhouse (1995)</td>\n",
       "    </tr>\n",
       "    <tr>\n",
       "      <th>836476</th>\n",
       "      <td>6040</td>\n",
       "      <td>1096</td>\n",
       "      <td>4</td>\n",
       "      <td>Sophie's Choice (1982)</td>\n",
       "    </tr>\n",
       "    <tr>\n",
       "      <th>836477</th>\n",
       "      <td>6040</td>\n",
       "      <td>1097</td>\n",
       "      <td>4</td>\n",
       "      <td>E.T. the Extra-Terrestrial (1982)</td>\n",
       "    </tr>\n",
       "    <tr>\n",
       "      <th>836478</th>\n",
       "      <td>lil_park</td>\n",
       "      <td>1240</td>\n",
       "      <td>5</td>\n",
       "      <td>Terminator, The (1984)</td>\n",
       "    </tr>\n",
       "    <tr>\n",
       "      <th>836479</th>\n",
       "      <td>lil_park</td>\n",
       "      <td>2571</td>\n",
       "      <td>5</td>\n",
       "      <td>Matrix, The (1999)</td>\n",
       "    </tr>\n",
       "    <tr>\n",
       "      <th>836480</th>\n",
       "      <td>lil_park</td>\n",
       "      <td>1580</td>\n",
       "      <td>5</td>\n",
       "      <td>Men in Black (1997)</td>\n",
       "    </tr>\n",
       "    <tr>\n",
       "      <th>836481</th>\n",
       "      <td>lil_park</td>\n",
       "      <td>648</td>\n",
       "      <td>5</td>\n",
       "      <td>Mission: Impossible (1996)</td>\n",
       "    </tr>\n",
       "    <tr>\n",
       "      <th>836482</th>\n",
       "      <td>lil_park</td>\n",
       "      <td>3623</td>\n",
       "      <td>5</td>\n",
       "      <td>Mission: Impossible 2 (2000)</td>\n",
       "    </tr>\n",
       "  </tbody>\n",
       "</table>\n",
       "</div>"
      ],
      "text/plain": [
       "         user_id  movie_id  count                              title\n",
       "836473      6040      1090      3                     Platoon (1986)\n",
       "836474      6040      1094      5            Crying Game, The (1992)\n",
       "836475      6040       562      5    Welcome to the Dollhouse (1995)\n",
       "836476      6040      1096      4             Sophie's Choice (1982)\n",
       "836477      6040      1097      4  E.T. the Extra-Terrestrial (1982)\n",
       "836478  lil_park      1240      5             Terminator, The (1984)\n",
       "836479  lil_park      2571      5                 Matrix, The (1999)\n",
       "836480  lil_park      1580      5                Men in Black (1997)\n",
       "836481  lil_park       648      5         Mission: Impossible (1996)\n",
       "836482  lil_park      3623      5       Mission: Impossible 2 (2000)"
      ]
     },
     "execution_count": 12,
     "metadata": {},
     "output_type": "execute_result"
    }
   ],
   "source": [
    "if not ratings.isin({'user_id':['lil_park']})['user_id'].any():\n",
    "    ratings = ratings.append(my_movielist, ignore_index=True)\n",
    "\n",
    "ratings.tail(10)"
   ]
  },
  {
   "cell_type": "markdown",
   "id": "cooked-deputy",
   "metadata": {},
   "source": [
    "* 기존의 ratings dataframe에 새로운 데이터를 추가 (my_movielist)"
   ]
  },
  {
   "cell_type": "markdown",
   "id": "obvious-warren",
   "metadata": {},
   "source": [
    "## 4. CSR matrix 생성"
   ]
  },
  {
   "cell_type": "code",
   "execution_count": 13,
   "id": "conventional-chile",
   "metadata": {},
   "outputs": [],
   "source": [
    "user_unique = ratings['user_id'].unique()\n",
    "movie_unique = ratings['title'].unique()\n",
    "\n",
    "user_to_idx = {v:k for k,v in enumerate(user_unique)}\n",
    "movie_to_idx = {v:k for k,v in enumerate(movie_unique)}"
   ]
  },
  {
   "cell_type": "markdown",
   "id": "drawn-mainstream",
   "metadata": {},
   "source": [
    "* user_unique: 유저의 수\n",
    "* movie_unique: 영화의 갯수\n",
    "  \n",
    "  \n",
    "* 유저 id와 영화 제목을 고유한 갯수만큼 indexing"
   ]
  },
  {
   "cell_type": "code",
   "execution_count": 14,
   "id": "varied-mixer",
   "metadata": {},
   "outputs": [
    {
     "name": "stdout",
     "output_type": "stream",
     "text": [
      "user_id column indexing OK!!\n",
      "title column indexing OK!!\n"
     ]
    },
    {
     "data": {
      "text/html": [
       "<div>\n",
       "<style scoped>\n",
       "    .dataframe tbody tr th:only-of-type {\n",
       "        vertical-align: middle;\n",
       "    }\n",
       "\n",
       "    .dataframe tbody tr th {\n",
       "        vertical-align: top;\n",
       "    }\n",
       "\n",
       "    .dataframe thead th {\n",
       "        text-align: right;\n",
       "    }\n",
       "</style>\n",
       "<table border=\"1\" class=\"dataframe\">\n",
       "  <thead>\n",
       "    <tr style=\"text-align: right;\">\n",
       "      <th></th>\n",
       "      <th>user_id</th>\n",
       "      <th>movie_id</th>\n",
       "      <th>count</th>\n",
       "      <th>title</th>\n",
       "    </tr>\n",
       "  </thead>\n",
       "  <tbody>\n",
       "    <tr>\n",
       "      <th>0</th>\n",
       "      <td>0</td>\n",
       "      <td>1193</td>\n",
       "      <td>5</td>\n",
       "      <td>0</td>\n",
       "    </tr>\n",
       "    <tr>\n",
       "      <th>1</th>\n",
       "      <td>0</td>\n",
       "      <td>661</td>\n",
       "      <td>3</td>\n",
       "      <td>1</td>\n",
       "    </tr>\n",
       "    <tr>\n",
       "      <th>2</th>\n",
       "      <td>0</td>\n",
       "      <td>914</td>\n",
       "      <td>3</td>\n",
       "      <td>2</td>\n",
       "    </tr>\n",
       "    <tr>\n",
       "      <th>3</th>\n",
       "      <td>0</td>\n",
       "      <td>3408</td>\n",
       "      <td>4</td>\n",
       "      <td>3</td>\n",
       "    </tr>\n",
       "    <tr>\n",
       "      <th>4</th>\n",
       "      <td>0</td>\n",
       "      <td>2355</td>\n",
       "      <td>5</td>\n",
       "      <td>4</td>\n",
       "    </tr>\n",
       "    <tr>\n",
       "      <th>...</th>\n",
       "      <td>...</td>\n",
       "      <td>...</td>\n",
       "      <td>...</td>\n",
       "      <td>...</td>\n",
       "    </tr>\n",
       "    <tr>\n",
       "      <th>836478</th>\n",
       "      <td>6039</td>\n",
       "      <td>1240</td>\n",
       "      <td>5</td>\n",
       "      <td>200</td>\n",
       "    </tr>\n",
       "    <tr>\n",
       "      <th>836479</th>\n",
       "      <td>6039</td>\n",
       "      <td>2571</td>\n",
       "      <td>5</td>\n",
       "      <td>124</td>\n",
       "    </tr>\n",
       "    <tr>\n",
       "      <th>836480</th>\n",
       "      <td>6039</td>\n",
       "      <td>1580</td>\n",
       "      <td>5</td>\n",
       "      <td>175</td>\n",
       "    </tr>\n",
       "    <tr>\n",
       "      <th>836481</th>\n",
       "      <td>6039</td>\n",
       "      <td>648</td>\n",
       "      <td>5</td>\n",
       "      <td>58</td>\n",
       "    </tr>\n",
       "    <tr>\n",
       "      <th>836482</th>\n",
       "      <td>6039</td>\n",
       "      <td>3623</td>\n",
       "      <td>5</td>\n",
       "      <td>482</td>\n",
       "    </tr>\n",
       "  </tbody>\n",
       "</table>\n",
       "<p>836483 rows × 4 columns</p>\n",
       "</div>"
      ],
      "text/plain": [
       "        user_id  movie_id  count  title\n",
       "0             0      1193      5      0\n",
       "1             0       661      3      1\n",
       "2             0       914      3      2\n",
       "3             0      3408      4      3\n",
       "4             0      2355      5      4\n",
       "...         ...       ...    ...    ...\n",
       "836478     6039      1240      5    200\n",
       "836479     6039      2571      5    124\n",
       "836480     6039      1580      5    175\n",
       "836481     6039       648      5     58\n",
       "836482     6039      3623      5    482\n",
       "\n",
       "[836483 rows x 4 columns]"
      ]
     },
     "execution_count": 14,
     "metadata": {},
     "output_type": "execute_result"
    }
   ],
   "source": [
    "temp_user_data = ratings['user_id'].map(user_to_idx.get).dropna()\n",
    "if len(temp_user_data) == len(ratings):\n",
    "    print('user_id column indexing OK!!')\n",
    "    ratings['user_id'] = temp_user_data\n",
    "else:\n",
    "    print('user_id column indexing Fail!!')\n",
    "\n",
    "temp_movie_data = ratings['title'].map(movie_to_idx.get).dropna()\n",
    "if len(temp_movie_data) == len(ratings):\n",
    "    print('title column indexing OK!!')\n",
    "    ratings['title'] = temp_movie_data\n",
    "else:\n",
    "    print('title column indexing Fail!!')\n",
    "\n",
    "ratings"
   ]
  },
  {
   "cell_type": "markdown",
   "id": "thorough-intensity",
   "metadata": {},
   "source": [
    "* data column 값을 indexing 값으로 교체\n",
    "* user_to_idx.get을 통해 user_id 컬럼의 모든 값을 인덱싱\n",
    "* movie_to_idx을 통해 title 컬럼도 동일한 방식으로 인덱싱"
   ]
  },
  {
   "cell_type": "code",
   "execution_count": 15,
   "id": "professional-passion",
   "metadata": {},
   "outputs": [
    {
     "data": {
      "text/plain": [
       "<6040x3628 sparse matrix of type '<class 'numpy.longlong'>'\n",
       "\twith 836483 stored elements in Compressed Sparse Row format>"
      ]
     },
     "execution_count": 15,
     "metadata": {},
     "output_type": "execute_result"
    }
   ],
   "source": [
    "from scipy.sparse import csr_matrix\n",
    "\n",
    "num_user = ratings['user_id'].nunique()\n",
    "num_movie = ratings['title'].nunique()\n",
    "\n",
    "csr_data = csr_matrix((ratings['count'], (ratings.user_id, ratings.title)), shape= (num_user, num_movie))\n",
    "csr_data"
   ]
  },
  {
   "cell_type": "markdown",
   "id": "linear-greenhouse",
   "metadata": {},
   "source": [
    "* CSR matrix 생성"
   ]
  },
  {
   "cell_type": "markdown",
   "id": "breeding-graduate",
   "metadata": {},
   "source": [
    "## 5. 모델 설계 및 훈련"
   ]
  },
  {
   "cell_type": "code",
   "execution_count": 16,
   "id": "polyphonic-tomato",
   "metadata": {},
   "outputs": [],
   "source": [
    "from implicit.als import AlternatingLeastSquares\n",
    "import os\n",
    "import numpy as np\n",
    "\n",
    "os.environ['OPENBLAS_NUM_THREADS']='1'\n",
    "os.environ['KMP_DUPLICATE_LIB_OK']='True'\n",
    "os.environ['MKL_NUM_THREADS']='1'"
   ]
  },
  {
   "cell_type": "markdown",
   "id": "united-lucas",
   "metadata": {},
   "source": [
    "* implicit 라이브러리에서 권장하고 있는 부분\n",
    "* 의미에 대해서는 잘 모르겠음"
   ]
  },
  {
   "cell_type": "code",
   "execution_count": 17,
   "id": "missing-update",
   "metadata": {},
   "outputs": [],
   "source": [
    "als_model = AlternatingLeastSquares(factors=100, regularization=0.01, use_gpu=False, iterations=15, dtype=np.float32)"
   ]
  },
  {
   "cell_type": "markdown",
   "id": "billion-munich",
   "metadata": {},
   "source": [
    "* Implicit AlternatingLeastSquares model 선언"
   ]
  },
  {
   "cell_type": "code",
   "execution_count": 18,
   "id": "flying-germany",
   "metadata": {},
   "outputs": [
    {
     "data": {
      "text/plain": [
       "<3628x6040 sparse matrix of type '<class 'numpy.longlong'>'\n",
       "\twith 836483 stored elements in Compressed Sparse Column format>"
      ]
     },
     "execution_count": 18,
     "metadata": {},
     "output_type": "execute_result"
    }
   ],
   "source": [
    "csr_data_transpose = csr_data.T\n",
    "csr_data_transpose"
   ]
  },
  {
   "cell_type": "markdown",
   "id": "nearby-valuation",
   "metadata": {},
   "source": [
    "* als model은 input으로 item X user 꼴의 matrix를 받기 때문에 Transpose가 필요 (행렬곱 연산)"
   ]
  },
  {
   "cell_type": "code",
   "execution_count": 19,
   "id": "typical-tenant",
   "metadata": {},
   "outputs": [
    {
     "data": {
      "application/vnd.jupyter.widget-view+json": {
       "model_id": "58f2f42a12da49b981b74ed76b960117",
       "version_major": 2,
       "version_minor": 0
      },
      "text/plain": [
       "  0%|          | 0/15 [00:00<?, ?it/s]"
      ]
     },
     "metadata": {},
     "output_type": "display_data"
    }
   ],
   "source": [
    "als_model.fit(csr_data_transpose)"
   ]
  },
  {
   "cell_type": "markdown",
   "id": "photographic-cookbook",
   "metadata": {},
   "source": [
    "* model 훈련"
   ]
  },
  {
   "cell_type": "markdown",
   "id": "careful-archive",
   "metadata": {},
   "source": [
    "## 6. 훈련된 모델이 예측한 나의 선호도"
   ]
  },
  {
   "cell_type": "code",
   "execution_count": 20,
   "id": "assumed-satisfaction",
   "metadata": {},
   "outputs": [],
   "source": [
    "lil_park, matrix = user_to_idx['lil_park'], movie_to_idx['Matrix, The (1999)']\n",
    "lil_park_vector, matrix_vector = als_model.user_factors[lil_park], als_model.item_factors[matrix]"
   ]
  },
  {
   "cell_type": "markdown",
   "id": "coupled-combine",
   "metadata": {},
   "source": [
    "* model을 이용하여 나의 벡터와 영화 벡터를 구함\n",
    "* 나의 벡터는 미리 추가해놓은 'lil_park' 데이터를 이용\n",
    "* 내가 선호하는 영화 리스트에 포함되어 있는 영화인 Matrix의 벡터를 계산"
   ]
  },
  {
   "cell_type": "code",
   "execution_count": 21,
   "id": "selected-catering",
   "metadata": {},
   "outputs": [
    {
     "data": {
      "text/plain": [
       "array([ 4.10019904e-01, -3.80544811e-01, -3.47956493e-02, -6.23874702e-02,\n",
       "        5.24455011e-01,  2.44025022e-01,  1.01598847e+00, -6.46223128e-01,\n",
       "        1.10658455e+00,  7.77535915e-01, -9.55325812e-02,  5.51060557e-01,\n",
       "        1.35940289e+00, -1.12588331e-01, -6.02340698e-01,  5.56486547e-01,\n",
       "        4.24802601e-01,  3.90608818e-03, -6.13577127e-01, -8.04037929e-01,\n",
       "       -1.21868916e-01, -4.97529268e-01,  3.78615260e-02,  6.24389239e-02,\n",
       "       -2.57686436e-01,  1.14417136e+00, -6.34511590e-01, -6.32092595e-01,\n",
       "       -7.33129442e-01, -1.44379082e-04, -4.32181180e-01,  9.42485332e-01,\n",
       "       -4.55087423e-01, -2.34932527e-01,  2.18313292e-01,  3.50444764e-01,\n",
       "        1.25276208e-01, -1.35127380e-01,  9.98782098e-01,  1.14024210e+00,\n",
       "        2.17955559e-01,  4.84859020e-01,  9.02650535e-01, -1.29193902e-01,\n",
       "        1.38803095e-01, -2.67581761e-01, -7.35978425e-01, -4.65282649e-01,\n",
       "       -2.64441669e-01, -1.13362052e-01, -5.44064306e-02, -6.30889595e-01,\n",
       "       -1.06813319e-01, -1.87529549e-01, -1.02127470e-01, -1.07149370e-01,\n",
       "       -1.04247928e+00, -1.09525192e+00,  3.05702537e-01,  4.69293356e-01,\n",
       "        7.51965821e-01,  6.04034245e-01, -2.63995230e-01, -1.60125419e-01,\n",
       "       -6.66104704e-02,  2.99166590e-01,  4.34673756e-01, -5.23485661e-01,\n",
       "        4.89853173e-02, -6.63812384e-02, -4.04740632e-01, -2.74827391e-01,\n",
       "       -1.06641757e+00,  8.54059696e-01,  1.00373000e-01,  3.12118769e-01,\n",
       "        9.64037597e-01,  6.85103834e-01, -7.26181343e-02,  4.58164930e-01,\n",
       "       -4.23941612e-01, -6.56369515e-03, -1.74913913e-01, -3.38201463e-01,\n",
       "       -4.80840832e-01, -1.61854863e-01,  4.45396543e-01,  7.46680140e-01,\n",
       "       -8.82640295e-03, -4.06513084e-03, -1.62053540e-01,  3.39620739e-01,\n",
       "       -8.70753706e-01,  1.30955428e-01, -4.80156839e-01,  2.51254380e-01,\n",
       "        1.61233529e-01, -2.29390964e-01,  1.68664679e-01, -1.04473853e+00],\n",
       "      dtype=float32)"
      ]
     },
     "execution_count": 21,
     "metadata": {},
     "output_type": "execute_result"
    }
   ],
   "source": [
    "lil_park_vector"
   ]
  },
  {
   "cell_type": "markdown",
   "id": "experienced-bahrain",
   "metadata": {},
   "source": [
    "* 나의 벡터"
   ]
  },
  {
   "cell_type": "code",
   "execution_count": 22,
   "id": "infrared-mount",
   "metadata": {},
   "outputs": [
    {
     "data": {
      "text/plain": [
       "array([ 0.00904326, -0.00272089, -0.0197151 ,  0.00329583,  0.01248024,\n",
       "       -0.00185465,  0.02115068, -0.00436876,  0.02263998,  0.02628555,\n",
       "        0.00432578,  0.01237044,  0.03842386,  0.02006912, -0.01634437,\n",
       "        0.01149884,  0.01996523, -0.00385619,  0.00299031, -0.01101883,\n",
       "       -0.00489077,  0.00348486,  0.01557175,  0.0030802 ,  0.00505475,\n",
       "        0.03184101, -0.00857368,  0.01146542, -0.00769847,  0.01098374,\n",
       "        0.01344242,  0.03095594, -0.00554795, -0.00495961,  0.03103339,\n",
       "        0.02690692, -0.00646813,  0.00325101,  0.03801562,  0.02796322,\n",
       "        0.0172271 ,  0.0466028 ,  0.01012817,  0.00253165, -0.01267212,\n",
       "        0.01039502, -0.02360802, -0.00091741,  0.01080921,  0.02637553,\n",
       "        0.01289073, -0.00673841, -0.01843985,  0.00070057, -0.01020727,\n",
       "        0.00683116, -0.01981277, -0.01622631,  0.02238117,  0.02738811,\n",
       "        0.0159368 ,  0.03235731,  0.00670442, -0.00888341,  0.00310398,\n",
       "        0.00018562,  0.02150644, -0.01083803,  0.02058482,  0.01070653,\n",
       "       -0.00775041, -0.00321797, -0.02109179,  0.03596053,  0.0069313 ,\n",
       "        0.0186131 ,  0.03088041,  0.00090735,  0.01882585,  0.01262085,\n",
       "       -0.01324869, -0.02447769,  0.01823553,  0.01513932,  0.00340953,\n",
       "       -0.00724976, -0.00398069,  0.00356885, -0.00327493,  0.01107206,\n",
       "        0.01980883,  0.01234196, -0.04100119,  0.00145277, -0.00929335,\n",
       "       -0.00659097, -0.00967581, -0.01005263,  0.00855021, -0.01671943],\n",
       "      dtype=float32)"
      ]
     },
     "execution_count": 22,
     "metadata": {},
     "output_type": "execute_result"
    }
   ],
   "source": [
    "matrix_vector"
   ]
  },
  {
   "cell_type": "markdown",
   "id": "animal-cover",
   "metadata": {},
   "source": [
    "* 영화 Matrix의 벡터"
   ]
  },
  {
   "cell_type": "code",
   "execution_count": 23,
   "id": "developing-invite",
   "metadata": {},
   "outputs": [
    {
     "data": {
      "text/plain": [
       "0.62820446"
      ]
     },
     "execution_count": 23,
     "metadata": {},
     "output_type": "execute_result"
    }
   ],
   "source": [
    "np.dot(lil_park_vector, matrix_vector)"
   ]
  },
  {
   "cell_type": "markdown",
   "id": "incoming-potential",
   "metadata": {},
   "source": [
    "* 나의 벡터와 영화 Matrix의 벡터를 내적\n",
    "* 내가 선호하는 영화이므로, 내적 값이 큰 것을 확인할 수 있다."
   ]
  },
  {
   "cell_type": "code",
   "execution_count": 24,
   "id": "portable-excellence",
   "metadata": {},
   "outputs": [
    {
     "data": {
      "text/plain": [
       "-0.0666814"
      ]
     },
     "execution_count": 24,
     "metadata": {},
     "output_type": "execute_result"
    }
   ],
   "source": [
    "Platoon = movie_to_idx['Platoon (1986)']\n",
    "Platoon_vector = als_model.item_factors[Platoon]\n",
    "np.dot(lil_park_vector, Platoon_vector)"
   ]
  },
  {
   "cell_type": "markdown",
   "id": "respiratory-jason",
   "metadata": {},
   "source": [
    "* 선호 리스트에 없는 영화의 벡터를 계산\n",
    "* 나의 벡터와 선호 리스트에 없는 영화 벡터를 내적한 결과\n",
    "* 굉장히 낮은 값이 출력"
   ]
  },
  {
   "cell_type": "markdown",
   "id": "talented-india",
   "metadata": {},
   "source": [
    "## 7. 내가 좋아하는 영화와 비슷한 영화 추천"
   ]
  },
  {
   "cell_type": "code",
   "execution_count": 25,
   "id": "infinite-twenty",
   "metadata": {},
   "outputs": [
    {
     "data": {
      "text/plain": [
       "[(58, 0.9999999),\n",
       " (138, 0.54618484),\n",
       " (118, 0.45856228),\n",
       " (129, 0.4476144),\n",
       " (82, 0.44286004),\n",
       " (772, 0.4405187),\n",
       " (766, 0.43479803),\n",
       " (587, 0.43452403),\n",
       " (156, 0.43022692),\n",
       " (119, 0.428624),\n",
       " (179, 0.4231625),\n",
       " (975, 0.41819593),\n",
       " (714, 0.4110838),\n",
       " (107, 0.39991465),\n",
       " (140, 0.38783678)]"
      ]
     },
     "execution_count": 25,
     "metadata": {},
     "output_type": "execute_result"
    }
   ],
   "source": [
    "favorite_movie = 'Mission: Impossible (1996)'\n",
    "movie_id = movie_to_idx[favorite_movie]\n",
    "similar_movie = als_model.similar_items(movie_id, N=15)\n",
    "similar_movie "
   ]
  },
  {
   "cell_type": "markdown",
   "id": "czech-healthcare",
   "metadata": {},
   "source": [
    "* 내가 좋아하는 영화 벡터를 이용하여, input으로 주어진 영화와 비슷한 영화를 총 15개 출력"
   ]
  },
  {
   "cell_type": "code",
   "execution_count": 26,
   "id": "virgin-hypothetical",
   "metadata": {},
   "outputs": [
    {
     "data": {
      "text/plain": [
       "['Mission: Impossible (1996)',\n",
       " 'True Lies (1994)',\n",
       " 'Con Air (1997)',\n",
       " 'Conspiracy Theory (1997)',\n",
       " 'Lost World: Jurassic Park, The (1997)',\n",
       " 'Rising Sun (1993)',\n",
       " 'GoldenEye (1995)',\n",
       " 'Batman Returns (1992)',\n",
       " 'Mask of Zorro, The (1998)',\n",
       " 'Twister (1996)',\n",
       " 'Rock, The (1996)',\n",
       " 'Young Sherlock Holmes (1985)',\n",
       " 'Waterworld (1995)',\n",
       " 'Jurassic Park (1993)',\n",
       " 'Clear and Present Danger (1994)']"
      ]
     },
     "execution_count": 26,
     "metadata": {},
     "output_type": "execute_result"
    }
   ],
   "source": [
    "idx_to_movie = {v:k for k,v in movie_to_idx.items()}\n",
    "[idx_to_movie[i[0]] for i in similar_movie]"
   ]
  },
  {
   "cell_type": "markdown",
   "id": "crucial-proposition",
   "metadata": {},
   "source": [
    "* 앞서 구한 비슷한 영화 15개는 index로 출력이 되어있기 때문에,\n",
    "* index 값을 이용하여 영화의 이름을 출력"
   ]
  },
  {
   "cell_type": "code",
   "execution_count": 27,
   "id": "subsequent-police",
   "metadata": {},
   "outputs": [],
   "source": [
    "def get_similar_movie(movie_title: str):\n",
    "    movie_id = movie_to_idx[movie_title]\n",
    "    similar_movie = als_model.similar_items(movie_id, N=15)\n",
    "    similar_movie = [idx_to_movie[i[0]] for i in similar_movie]\n",
    "    return similar_movie"
   ]
  },
  {
   "cell_type": "markdown",
   "id": "strategic-theorem",
   "metadata": {},
   "source": [
    "* 앞서 작성한 코드인, 내가 선호하는 영화와 비슷한 영화를 추천해주는 함수\n",
    "* 함수 내부에서 index 값을 이용하여 input으로 주어진 영화와 비슷한 영화의 제목을 출력"
   ]
  },
  {
   "cell_type": "code",
   "execution_count": 28,
   "id": "statistical-village",
   "metadata": {},
   "outputs": [
    {
     "data": {
      "text/plain": [
       "['Men in Black (1997)',\n",
       " 'Jurassic Park (1993)',\n",
       " 'Terminator 2: Judgment Day (1991)',\n",
       " 'Total Recall (1990)',\n",
       " 'Independence Day (ID4) (1996)',\n",
       " 'Fifth Element, The (1997)',\n",
       " 'Matrix, The (1999)',\n",
       " 'Lost World: Jurassic Park, The (1997)',\n",
       " 'Face/Off (1997)',\n",
       " 'True Lies (1994)',\n",
       " 'Galaxy Quest (1999)',\n",
       " 'Schlafes Bruder (Brother of Sleep) (1995)',\n",
       " 'Rocky Horror Picture Show, The (1975)',\n",
       " 'Grumpy Old Men (1993)',\n",
       " 'Repo Man (1984)']"
      ]
     },
     "execution_count": 28,
     "metadata": {},
     "output_type": "execute_result"
    }
   ],
   "source": [
    "get_similar_movie('Men in Black (1997)')"
   ]
  },
  {
   "cell_type": "code",
   "execution_count": 29,
   "id": "composite-infection",
   "metadata": {},
   "outputs": [
    {
     "data": {
      "text/plain": [
       "['Terminator, The (1984)',\n",
       " 'Aliens (1986)',\n",
       " 'Die Hard (1988)',\n",
       " 'Alien (1979)',\n",
       " 'Predator (1987)',\n",
       " 'Terminator 2: Judgment Day (1991)',\n",
       " 'Matrix, The (1999)',\n",
       " 'Total Recall (1990)',\n",
       " 'Blade Runner (1982)',\n",
       " 'Robocop (1987)',\n",
       " 'Star Wars: Episode V - The Empire Strikes Back (1980)',\n",
       " 'Indiana Jones and the Last Crusade (1989)',\n",
       " 'Mad Max 2 (a.k.a. The Road Warrior) (1981)',\n",
       " 'Star Wars: Episode IV - A New Hope (1977)',\n",
       " 'Raiders of the Lost Ark (1981)']"
      ]
     },
     "execution_count": 29,
     "metadata": {},
     "output_type": "execute_result"
    }
   ],
   "source": [
    "get_similar_movie('Terminator, The (1984)')"
   ]
  },
  {
   "cell_type": "markdown",
   "id": "analyzed-state",
   "metadata": {},
   "source": [
    "## 8. 내가 좋아할 만한 영화 추천"
   ]
  },
  {
   "cell_type": "code",
   "execution_count": 30,
   "id": "double-highland",
   "metadata": {},
   "outputs": [
    {
     "data": {
      "text/plain": [
       "[(92, 0.65678895),\n",
       " (107, 0.5143002),\n",
       " (62, 0.458377),\n",
       " (372, 0.3984903),\n",
       " (67, 0.3971084),\n",
       " (44, 0.3374477),\n",
       " (117, 0.29833728),\n",
       " (375, 0.2933408),\n",
       " (145, 0.29011288),\n",
       " (82, 0.28131947),\n",
       " (141, 0.2730414),\n",
       " (64, 0.2718894),\n",
       " (60, 0.261981),\n",
       " (193, 0.25484398),\n",
       " (346, 0.24959241)]"
      ]
     },
     "execution_count": 30,
     "metadata": {},
     "output_type": "execute_result"
    }
   ],
   "source": [
    "user = user_to_idx['lil_park']\n",
    "\n",
    "movie_recommended = als_model.recommend(user, csr_data, N=15, filter_already_liked_items=True)\n",
    "movie_recommended"
   ]
  },
  {
   "cell_type": "markdown",
   "id": "handy-voice",
   "metadata": {},
   "source": [
    "* 나의 벡터를 이용하여, 내가 선호하는 영화들과 비슷한 영화들을 index 값으로 반환"
   ]
  },
  {
   "cell_type": "code",
   "execution_count": 31,
   "id": "stuffed-rebel",
   "metadata": {},
   "outputs": [
    {
     "data": {
      "text/plain": [
       "['Terminator 2: Judgment Day (1991)',\n",
       " 'Jurassic Park (1993)',\n",
       " 'Total Recall (1990)',\n",
       " 'X-Men (2000)',\n",
       " 'Gladiator (2000)',\n",
       " 'Star Wars: Episode IV - A New Hope (1977)',\n",
       " 'Star Wars: Episode V - The Empire Strikes Back (1980)',\n",
       " 'Face/Off (1997)',\n",
       " 'Fifth Element, The (1997)',\n",
       " 'Lost World: Jurassic Park, The (1997)',\n",
       " 'Fugitive, The (1993)',\n",
       " 'Star Wars: Episode VI - Return of the Jedi (1983)',\n",
       " 'Star Wars: Episode I - The Phantom Menace (1999)',\n",
       " 'Alien (1979)',\n",
       " 'Patriot, The (2000)']"
      ]
     },
     "execution_count": 31,
     "metadata": {},
     "output_type": "execute_result"
    }
   ],
   "source": [
    "[idx_to_movie[i[0]] for i in movie_recommended]"
   ]
  },
  {
   "cell_type": "markdown",
   "id": "floral-content",
   "metadata": {},
   "source": [
    "* 앞서 구한 index 값을 이용하여, 내가 선호할만한 영화 제목을 출력"
   ]
  },
  {
   "cell_type": "code",
   "execution_count": 32,
   "id": "objective-smart",
   "metadata": {},
   "outputs": [
    {
     "data": {
      "text/plain": [
       "[('Men in Black (1997)', 0.31793220793943433),\n",
       " ('Matrix, The (1999)', 0.12040903555502976),\n",
       " ('Mission: Impossible (1996)', 0.0922334400200717),\n",
       " ('Terminator, The (1984)', 0.010533496308269667),\n",
       " ('Mission: Impossible 2 (2000)', -0.0350992890793501)]"
      ]
     },
     "execution_count": 32,
     "metadata": {},
     "output_type": "execute_result"
    }
   ],
   "source": [
    "recommended = movie_to_idx['Jurassic Park (1993)']\n",
    "explain = als_model.explain(user, csr_data, itemid=recommended)\n",
    "\n",
    "[(idx_to_movie[i[0]], i[1]) for i in explain[1]]"
   ]
  },
  {
   "cell_type": "markdown",
   "id": "considered-fishing",
   "metadata": {},
   "source": [
    "* 사용자의 선호 영화 리스트에 있는 영화들이 영화 추천에 어느정도 기여했는지 기여도를 확인\n",
    "* 'Jurassic Park (1993)'에 대한 기여도를 확인한 결과, 'Men in Black (1997)'이 0.3179 정도로 꽤 높은 기여를 함"
   ]
  },
  {
   "cell_type": "markdown",
   "id": "labeled-measurement",
   "metadata": {},
   "source": [
    "## 9. 회고"
   ]
  },
  {
   "cell_type": "markdown",
   "id": "quiet-dealer",
   "metadata": {},
   "source": [
    "* data의 경우, 평점과 제목이 2개의 파일로 나눠져 있었다. 평점과 영화 제목의 경우, 많이 사용하는 데이터이기 때문에, join을 이용하여 두 개의 dataframe을 하나로 합쳐서 사용하였다.\n",
    "* 결과를 보면, 선호 영화 리스트에 있는 'Matrix, The (1999)'의 벡터 내적 값은 약 0.63으로, 나름 높은 값을 얻었고, 'Platoon (1986)'이라는 영화와의 벡터 내적 값은 약 -0.07정도로 굉장히 낮은 값을 얻었다. 대체적으로 액션, 블록버스터 영화를 선호하는 입장에서 'Platoon (1986)'이라는 영화를 선호하지 않는 나의 선호도가 나름 잘 반영되었다고 생각된다. \n",
    "* 내가 좋아하는 영화와 비슷한 추천 영화들에 대해서 살펴보면, 대체적으로 액션, 블록버스터와 같은 비슷한 장르의 영화들이 추천되었다. 또한, 내가 재밌게 본 영화나 좋아할만한 영화들이 추천된 것을 보면, 해당 장르에 대해서는 어느정도 추천 시스템 결과에 신뢰할 수 있다고 생각된다.\n",
    "   \n",
    "---\n",
    "   \n",
    "* 유튜브, 넷플릭스, 인터넷 광고 등 여러 플랫폼에서 사용하는 추천 시스템에 대해서 궁금한 부분이 많았다. 인터넷 광고는 사용자의 검색어를 기반으로 추천한다고 느꼈지만, 유튜브나 넷플릭스는 어떤 식으로 영상을 추천하는 것인지 이해하기 힘들었다. 이번 노드를 통해서 추천 시스템에 대한 어느정도의 궁금증을 해결한 것 같다. 그러나, 노드를 진행하면서 생긴 의문은, '과연 이 모델을 혹은 이 결과를 신뢰할 수 있는가?' 이다. 선호하는 것이 명확한 사용자도 있지만, 매칭이 잘 되지 않는 선호도를 가진 사용자도 있을 것이다. (가령, 애니메이션 영화를 좋아하면서 블록버스터 영화를 좋아하는 사용자) 혹은, 흔히 말하는 매니아처럼 하나의 장르만을 선호하는 사람이 아닌, 모든 장르를 선호하는 사람도 존재할 것이다. 그런 사람들에게 추천 시스템이 잘 적용될까? 영화의 내용을 전부 확인하고 추천하는 것이 아니기에 추천 시스템에는 한계가 존재하는 것일까? 확실히 이번 노드는 신기했지만, 어려웠고, 여러 의문이 생기는 노드였다."
   ]
  }
 ],
 "metadata": {
  "kernelspec": {
   "display_name": "Python 3",
   "language": "python",
   "name": "python3"
  },
  "language_info": {
   "codemirror_mode": {
    "name": "ipython",
    "version": 3
   },
   "file_extension": ".py",
   "mimetype": "text/x-python",
   "name": "python",
   "nbconvert_exporter": "python",
   "pygments_lexer": "ipython3",
   "version": "3.7.9"
  }
 },
 "nbformat": 4,
 "nbformat_minor": 5
}
