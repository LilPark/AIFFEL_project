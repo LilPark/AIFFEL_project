{
 "cells": [
  {
   "cell_type": "markdown",
   "id": "e81edfe1",
   "metadata": {},
   "source": [
    "# 시간과 파이토치의 방\n",
    "### 파이토치 씹어먹기\n",
    "* 참고: https://tutorials.pytorch.kr/beginner/basics/intro.html"
   ]
  },
  {
   "cell_type": "markdown",
   "id": "bfa27223",
   "metadata": {},
   "source": [
    "## 1. 텐서 (TENSOR)\n",
    "\n",
    "* tensor는 array나 matrix와 매우 유사한 특수한 자료구조\n",
    "* PyTorch에서는 텐서를 사용하여 모델의 입력과 출력, 그리고 모델의 매개변수들을 부호화(encode)\n",
    "\n",
    "* tensor는 GPU나 다른 하드웨어 가속기에서 실행할 수 있다는 점만 제외하면 NumPy의 ndarray와 유사\n",
    "* tensor는 자동 미분(automatic differentiation)에 최적화되어 있음"
   ]
  },
  {
   "cell_type": "code",
   "execution_count": 1,
   "id": "1bfe4aa9",
   "metadata": {},
   "outputs": [],
   "source": [
    "import torch\n",
    "import numpy as np"
   ]
  },
  {
   "cell_type": "markdown",
   "id": "e2e88338",
   "metadata": {},
   "source": [
    "### Tensor 초기화\n",
    "* tensor는 여러가지 방법으로 초기화할 수 있음\n",
    "    1. 데이터로부터 직접 생성하기: 데이터로부터 직접 tensor를 생성할 수 있음. 데이터의 자료형은 자동으로 유추\n",
    "    \n",
    "    2. NumPy 배열로부터 생성하기: tensor는 NumPy 배열로 생성할 수 있음. 반대도 가능\n",
    "    \n",
    "    3. 다른 tensor로부터 생성하기: 명시적으로 override하지 않는다면, 인자로 주어진 tensor의 속성 (shape, datatype)을 유지"
   ]
  },
  {
   "cell_type": "code",
   "execution_count": 2,
   "id": "010bb88e",
   "metadata": {},
   "outputs": [],
   "source": [
    "# 1. 데이터로부터 직접 생성하기\n",
    "data = [[1, 2], [3, 4]]\n",
    "x_data = torch.tensor(data)"
   ]
  },
  {
   "cell_type": "code",
   "execution_count": 3,
   "id": "cf5016af",
   "metadata": {},
   "outputs": [],
   "source": [
    "# 2. NumPy 배열로부터 생성하기\n",
    "np_array = np.array(data)\n",
    "x_np = torch.from_numpy(np_array)"
   ]
  },
  {
   "cell_type": "code",
   "execution_count": 4,
   "id": "3658edbd",
   "metadata": {},
   "outputs": [
    {
     "name": "stdout",
     "output_type": "stream",
     "text": [
      "Ones Tensor: \n",
      " tensor([[1, 1],\n",
      "        [1, 1]]) \n",
      "\n",
      "Random Tensor: \n",
      " tensor([[0.6154, 0.5604],\n",
      "        [0.7596, 0.7249]]) \n",
      "\n"
     ]
    }
   ],
   "source": [
    "# 3. 다른 텐서로부터 생성하기\n",
    "x_ones = torch.ones_like(x_data) # x_data의 속성을 유지\n",
    "print(f\"Ones Tensor: \\n {x_ones} \\n\")\n",
    "\n",
    "x_rand = torch.rand_like(x_data, dtype=torch.float) # x_data의 속성을 덮어씀\n",
    "print(f\"Random Tensor: \\n {x_rand} \\n\")"
   ]
  },
  {
   "cell_type": "markdown",
   "id": "9d0c80e3",
   "metadata": {},
   "source": [
    "* 무작위(random) 또는 상수(constant) 값을 사용하기\n",
    "    * shape는 tensor의 dimension을 나타내는 튜플로, 아래 함수들에서는 출력 tensor의 dimension을 결정 **(꼭, shape를 튜플로 만들 필요는 없는 것 같음. 리스트로 만들어서 사용해도 정상적으로 동작)**"
   ]
  },
  {
   "cell_type": "code",
   "execution_count": 5,
   "id": "72f9cd7b",
   "metadata": {},
   "outputs": [
    {
     "name": "stdout",
     "output_type": "stream",
     "text": [
      "Random Tensor: \n",
      " tensor([[0.3336, 0.6541, 0.9187],\n",
      "        [0.3836, 0.8696, 0.5586]]) \n",
      "\n",
      "Ones Tensor: \n",
      " tensor([[1., 1., 1.],\n",
      "        [1., 1., 1.]]) \n",
      "\n",
      "Zeros Tensor: \n",
      " tensor([[0., 0., 0.],\n",
      "        [0., 0., 0.]]) \n",
      "\n"
     ]
    }
   ],
   "source": [
    "shape = (2, 3,)\n",
    "rand_tensor = torch.rand(shape)\n",
    "ones_tensor = torch.ones(shape)\n",
    "zeros_tensor = torch.zeros(shape)\n",
    "\n",
    "print(f'Random Tensor: \\n {rand_tensor} \\n')\n",
    "print(f'Ones Tensor: \\n {ones_tensor} \\n')\n",
    "print(f'Zeros Tensor: \\n {zeros_tensor} \\n')"
   ]
  },
  {
   "cell_type": "code",
   "execution_count": 6,
   "id": "9b82bfa8",
   "metadata": {},
   "outputs": [
    {
     "name": "stdout",
     "output_type": "stream",
     "text": [
      "Random Tensor: \n",
      " tensor([[0.3242, 0.5013],\n",
      "        [0.6573, 0.4327],\n",
      "        [0.6030, 0.5267]]) \n",
      "\n",
      "Ones Tensor: \n",
      " tensor([[1., 1.],\n",
      "        [1., 1.],\n",
      "        [1., 1.]]) \n",
      "\n",
      "Zeros Tensor: \n",
      " tensor([[0., 0.],\n",
      "        [0., 0.],\n",
      "        [0., 0.]]) \n",
      "\n"
     ]
    }
   ],
   "source": [
    "shape = [3, 2,]\n",
    "rand_tensor = torch.rand(shape)\n",
    "ones_tensor = torch.ones(shape)\n",
    "zeros_tensor = torch.zeros(shape)\n",
    "\n",
    "print(f'Random Tensor: \\n {rand_tensor} \\n')\n",
    "print(f'Ones Tensor: \\n {ones_tensor} \\n')\n",
    "print(f'Zeros Tensor: \\n {zeros_tensor} \\n')"
   ]
  },
  {
   "cell_type": "markdown",
   "id": "9882fdcd",
   "metadata": {},
   "source": [
    "### Tensor의 속성(Attribute)\n",
    "* tensor의 속성은 tensor의 shape, datatype 및 어느 장치에 저장되는지를 나타냄"
   ]
  },
  {
   "cell_type": "code",
   "execution_count": 7,
   "id": "a6e1099a",
   "metadata": {},
   "outputs": [
    {
     "name": "stdout",
     "output_type": "stream",
     "text": [
      "Shape of tensor: torch.Size([3, 4])\n",
      "Datatype of tensor: torch.float32\n",
      "Device tensor is stored on: cpu\n"
     ]
    }
   ],
   "source": [
    "tensor = torch.rand(3, 4)\n",
    "\n",
    "print(f'Shape of tensor: {tensor.shape}')\n",
    "print(f'Datatype of tensor: {tensor.dtype}')\n",
    "print(f'Device tensor is stored on: {tensor.device}')"
   ]
  },
  {
   "cell_type": "markdown",
   "id": "5205f708",
   "metadata": {},
   "source": [
    "### Tensor 연산(Operation)\n",
    "* 전치(transposing), 인덱싱(indexing), 슬라이싱(slicing), 수학 계산, 선형 대수, 임의 샘플링(random sampling) 등, 100가지 이상의 텐서 연산\n",
    "    * 참고: https://pytorch.org/docs/stable/torch.html\n",
    "* 기본적으로 텐서는 CPU에 생성\n",
    "    * .to 메소드를 사용하면 GPU로 텐서를 명시적으로 이동할 수 있음"
   ]
  },
  {
   "cell_type": "code",
   "execution_count": 9,
   "id": "245dd230",
   "metadata": {},
   "outputs": [],
   "source": [
    "# if torch.cuda.is_available():\n",
    "#     tensor = tensor.to('cuda')"
   ]
  },
  {
   "cell_type": "code",
   "execution_count": 10,
   "id": "ece11270",
   "metadata": {},
   "outputs": [
    {
     "name": "stdout",
     "output_type": "stream",
     "text": [
      "First row:  tensor([1., 1., 1., 1.])\n",
      "First column:  tensor([1., 1., 1., 1.])\n",
      "Last column:  tensor([1., 1., 1., 1.])\n",
      "tensor([[1., 0., 1., 1.],\n",
      "        [1., 0., 1., 1.],\n",
      "        [1., 0., 1., 1.],\n",
      "        [1., 0., 1., 1.]])\n"
     ]
    }
   ],
   "source": [
    "# NumPy식의 표준 인덱싱과 슬라이싱\n",
    "tensor = torch.ones(4, 4)\n",
    "print('First row: ', tensor[0])\n",
    "print('First column: ', tensor[:, 0])\n",
    "print('Last column: ', tensor[..., -1])\n",
    "\n",
    "tensor[:,1] = 0\n",
    "print(tensor)"
   ]
  },
  {
   "cell_type": "markdown",
   "id": "08300ec1",
   "metadata": {},
   "source": [
    "* tensor 합치기는 .cat 메소드\n",
    "* torch.cat 과 미묘하게 다른 tensor 결합 연산인 torch.stack"
   ]
  },
  {
   "cell_type": "code",
   "execution_count": 11,
   "id": "2e7fd9e6",
   "metadata": {},
   "outputs": [
    {
     "name": "stdout",
     "output_type": "stream",
     "text": [
      "tensor([[1., 0., 1., 1., 1., 0., 1., 1., 1., 0., 1., 1.],\n",
      "        [1., 0., 1., 1., 1., 0., 1., 1., 1., 0., 1., 1.],\n",
      "        [1., 0., 1., 1., 1., 0., 1., 1., 1., 0., 1., 1.],\n",
      "        [1., 0., 1., 1., 1., 0., 1., 1., 1., 0., 1., 1.]])\n"
     ]
    }
   ],
   "source": [
    "t1 = torch.cat([tensor, tensor, tensor], dim=1)\n",
    "print(t1)"
   ]
  },
  {
   "cell_type": "markdown",
   "id": "eab5d205",
   "metadata": {},
   "source": [
    "* 산술 연산 (Arithmetic operations)"
   ]
  },
  {
   "cell_type": "code",
   "execution_count": 15,
   "id": "fee66d1b",
   "metadata": {},
   "outputs": [
    {
     "name": "stdout",
     "output_type": "stream",
     "text": [
      "tensor([[3., 3., 3., 3.],\n",
      "        [3., 3., 3., 3.],\n",
      "        [3., 3., 3., 3.],\n",
      "        [3., 3., 3., 3.]])\n",
      "tensor([[3., 3., 3., 3.],\n",
      "        [3., 3., 3., 3.],\n",
      "        [3., 3., 3., 3.],\n",
      "        [3., 3., 3., 3.]])\n",
      "tensor([[3., 3., 3., 3.],\n",
      "        [3., 3., 3., 3.],\n",
      "        [3., 3., 3., 3.],\n",
      "        [3., 3., 3., 3.]])\n"
     ]
    }
   ],
   "source": [
    "# 두 tensor 간의 행렬 곱을 계산\n",
    "# y1, y2, y3는 모두 같은 값\n",
    "y1 = tensor @ tensor.T\n",
    "y2 = tensor.matmul(tensor.T)\n",
    "\n",
    "y3 = torch.rand_like(tensor)\n",
    "torch.matmul(tensor, tensor.T, out=y3)\n",
    "\n",
    "print(y1)\n",
    "print(y2)\n",
    "print(y3)"
   ]
  },
  {
   "cell_type": "code",
   "execution_count": 17,
   "id": "959242f9",
   "metadata": {},
   "outputs": [
    {
     "name": "stdout",
     "output_type": "stream",
     "text": [
      "tensor([[1., 0., 1., 1.],\n",
      "        [1., 0., 1., 1.],\n",
      "        [1., 0., 1., 1.],\n",
      "        [1., 0., 1., 1.]])\n",
      "tensor([[1., 0., 1., 1.],\n",
      "        [1., 0., 1., 1.],\n",
      "        [1., 0., 1., 1.],\n",
      "        [1., 0., 1., 1.]])\n",
      "tensor([[1., 0., 1., 1.],\n",
      "        [1., 0., 1., 1.],\n",
      "        [1., 0., 1., 1.],\n",
      "        [1., 0., 1., 1.]])\n"
     ]
    }
   ],
   "source": [
    "# 요소별 곱 계산\n",
    "# z1, z2, z3는 모두 같은 값\n",
    "z1 = tensor * tensor\n",
    "z2 = tensor.mul(tensor)\n",
    "\n",
    "z3 = torch.rand_like(tensor)\n",
    "torch.mul(tensor, tensor, out=z3)\n",
    "\n",
    "print(z1)\n",
    "print(z2)\n",
    "print(z3)"
   ]
  },
  {
   "cell_type": "markdown",
   "id": "caedb61b",
   "metadata": {},
   "source": [
    "* 단일-요소 (single-element) 텐서\n",
    "    * tensor의 모든 값을 하나로 집계하여 요소가 하나인 tensor의 경우, item()을 사용하여 python 숫자 값으로 변환할 수 있음"
   ]
  },
  {
   "cell_type": "code",
   "execution_count": 18,
   "id": "0cf8fcaf",
   "metadata": {},
   "outputs": [
    {
     "name": "stdout",
     "output_type": "stream",
     "text": [
      "12.0 <class 'float'>\n"
     ]
    }
   ],
   "source": [
    "agg = tensor.sum()\n",
    "agg_item = agg.item()\n",
    "print(agg_item, type(agg_item))"
   ]
  },
  {
   "cell_type": "markdown",
   "id": "38da027f",
   "metadata": {},
   "source": [
    "* 바꿔치기 (in-place) 연산\n",
    "    * 연산 결과를 피연산자(operand)에 저장하는 연산을 바꿔치기 연산이라고 부르며, _ 접미사를 갖는다"
   ]
  },
  {
   "cell_type": "code",
   "execution_count": 19,
   "id": "7d7c2d9d",
   "metadata": {},
   "outputs": [
    {
     "name": "stdout",
     "output_type": "stream",
     "text": [
      "tensor([[1., 0., 1., 1.],\n",
      "        [1., 0., 1., 1.],\n",
      "        [1., 0., 1., 1.],\n",
      "        [1., 0., 1., 1.]]) \n",
      "\n",
      "tensor([[6., 5., 6., 6.],\n",
      "        [6., 5., 6., 6.],\n",
      "        [6., 5., 6., 6.],\n",
      "        [6., 5., 6., 6.]])\n"
     ]
    }
   ],
   "source": [
    "print(tensor, \"\\n\")\n",
    "tensor.add_(5)\n",
    "print(tensor)"
   ]
  },
  {
   "cell_type": "markdown",
   "id": "ab9ba036",
   "metadata": {},
   "source": [
    "### NumPy 변환 (Bridge)\n",
    "* CPU 상의 tensor와 NumPy 배열은 메모리 공간을 공유하기 때문에, 하나를 변경하면 다른 하나도 변경됩니다"
   ]
  },
  {
   "cell_type": "code",
   "execution_count": 20,
   "id": "beb20e55",
   "metadata": {},
   "outputs": [
    {
     "name": "stdout",
     "output_type": "stream",
     "text": [
      "t: tensor([1., 1., 1., 1., 1.])\n",
      "n: [1. 1. 1. 1. 1.]\n"
     ]
    }
   ],
   "source": [
    "# tensor를 NumPy 배열로 변환하기\n",
    "t = torch.ones(5)\n",
    "print(f't: {t}')\n",
    "n = t.numpy()\n",
    "print(f\"n: {n}\")"
   ]
  },
  {
   "cell_type": "code",
   "execution_count": 21,
   "id": "85ddd43d",
   "metadata": {},
   "outputs": [
    {
     "name": "stdout",
     "output_type": "stream",
     "text": [
      "t: tensor([2., 2., 2., 2., 2.])\n",
      "n: [2. 2. 2. 2. 2.]\n"
     ]
    }
   ],
   "source": [
    "# tensor의 변경 사항이 NumPy 배열에 반영됩니다\n",
    "t.add_(1)\n",
    "print(f't: {t}')\n",
    "print(f'n: {n}')"
   ]
  },
  {
   "cell_type": "code",
   "execution_count": 23,
   "id": "198b5801",
   "metadata": {},
   "outputs": [
    {
     "name": "stdout",
     "output_type": "stream",
     "text": [
      "n: [1. 1. 1. 1. 1.]\n",
      "t: tensor([1., 1., 1., 1., 1.], dtype=torch.float64)\n"
     ]
    }
   ],
   "source": [
    "# NumPy 배열을 tensor로 변환하기\n",
    "n = np.ones(5)\n",
    "t = torch.from_numpy(n)\n",
    "\n",
    "print(f'n: {n}')\n",
    "print(f't: {t}')"
   ]
  },
  {
   "cell_type": "code",
   "execution_count": 24,
   "id": "8ba9adb9",
   "metadata": {},
   "outputs": [
    {
     "name": "stdout",
     "output_type": "stream",
     "text": [
      "n: [2. 2. 2. 2. 2.]\n",
      "t: tensor([2., 2., 2., 2., 2.], dtype=torch.float64)\n"
     ]
    }
   ],
   "source": [
    "# NumPy 배열의 변경 사항이 tensor에 반영됩니다\n",
    "np.add(n, 1, out=n)\n",
    "print(f'n: {n}')\n",
    "print(f't: {t}')"
   ]
  }
 ],
 "metadata": {
  "kernelspec": {
   "display_name": "Python 3 (ipykernel)",
   "language": "python",
   "name": "python3"
  },
  "language_info": {
   "codemirror_mode": {
    "name": "ipython",
    "version": 3
   },
   "file_extension": ".py",
   "mimetype": "text/x-python",
   "name": "python",
   "nbconvert_exporter": "python",
   "pygments_lexer": "ipython3",
   "version": "3.9.7"
  }
 },
 "nbformat": 4,
 "nbformat_minor": 5
}
