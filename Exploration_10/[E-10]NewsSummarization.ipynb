{
 "cells": [
  {
   "cell_type": "markdown",
   "id": "emotional-invasion",
   "metadata": {},
   "source": [
    "# [E10] 뉴스 요약봇 만들기\n",
    "\n",
    "### 목차\n",
    "1. 데이터 수집하기\n",
    "2. 데이터 전처리\n",
    "3. 훈련 데이터와 테스트 데이터 분리\n",
    "4. 정수 인코딩\n",
    "5. 모델 설계하기\n",
    "6. 모델 훈련하기\n",
    "7. 모델 테스트하기\n",
    "8. 추출적 요약\n",
    "9. 회고\n",
    "  \n",
    "---\n",
    "  \n",
    "### 루브릭 평가 기준\n",
    "1. Abstractive 모델 구성을 위한 텍스트 전처리 단계가 체계적으로 진행되었다.\n",
    "    * 분석단계, 정제단계, 정규화와 불용어 제거, 데이터셋 분리, 인코딩 과정이 빠짐없이 체계적으로 진행되었다.\n",
    "2. 텍스트 요약모델이 성공적으로 학습되었음을 확인하였다.\n",
    "    * 모델학습이 안정적으로 수렴되었음을 그래프를 통해 확인하였으며, 실제 요약문과 유사한 요약문장을 얻을 수 있었다.\n",
    "3. Extractive 요약을 시도해 보고 Abstractive 요약 결과과 함께 비교해 보았다.\n",
    "    * 두 요약 결과를 문법완성도 측면과 핵심단어 포함 측면으로 나누어 비교분석 결과를 제시하였다."
   ]
  },
  {
   "cell_type": "markdown",
   "id": "ready-hampshire",
   "metadata": {},
   "source": [
    "## 1. 데이터 수집하기"
   ]
  },
  {
   "cell_type": "markdown",
   "id": "bizarre-riverside",
   "metadata": {},
   "source": [
    "### 1.1 데이터 준비"
   ]
  },
  {
   "cell_type": "code",
   "execution_count": 1,
   "id": "elder-glory",
   "metadata": {},
   "outputs": [
    {
     "name": "stderr",
     "output_type": "stream",
     "text": [
      "[nltk_data] Downloading package stopwords to /aiffel/nltk_data...\n",
      "[nltk_data]   Package stopwords is already up-to-date!\n"
     ]
    }
   ],
   "source": [
    "import nltk\n",
    "nltk.download('stopwords')\n",
    "\n",
    "import numpy as np\n",
    "import pandas as pd\n",
    "import os\n",
    "import re\n",
    "import matplotlib.pyplot as plt\n",
    "from nltk.corpus import stopwords\n",
    "from bs4 import BeautifulSoup \n",
    "from tensorflow.keras.preprocessing.text import Tokenizer \n",
    "from tensorflow.keras.preprocessing.sequence import pad_sequences\n",
    "import urllib.request"
   ]
  },
  {
   "cell_type": "code",
   "execution_count": 2,
   "id": "impaired-transformation",
   "metadata": {},
   "outputs": [],
   "source": [
    "import urllib.request\n",
    "urllib.request.urlretrieve(\"https://raw.githubusercontent.com/sunnysai12345/News_Summary/master/news_summary_more.csv\", filename=\"news_summary_more.csv\")\n",
    "data = pd.read_csv('news_summary_more.csv', encoding='iso-8859-1')"
   ]
  },
  {
   "cell_type": "markdown",
   "id": "seven-holmes",
   "metadata": {},
   "source": [
    "* NLTK 패키지에서 불용어 사전 다운로드\n",
    "* urllib을 이용하여 뉴스 기사 데이터를 다운로드"
   ]
  },
  {
   "cell_type": "code",
   "execution_count": 3,
   "id": "heated-colorado",
   "metadata": {},
   "outputs": [
    {
     "data": {
      "text/html": [
       "<div>\n",
       "<style scoped>\n",
       "    .dataframe tbody tr th:only-of-type {\n",
       "        vertical-align: middle;\n",
       "    }\n",
       "\n",
       "    .dataframe tbody tr th {\n",
       "        vertical-align: top;\n",
       "    }\n",
       "\n",
       "    .dataframe thead th {\n",
       "        text-align: right;\n",
       "    }\n",
       "</style>\n",
       "<table border=\"1\" class=\"dataframe\">\n",
       "  <thead>\n",
       "    <tr style=\"text-align: right;\">\n",
       "      <th></th>\n",
       "      <th>headlines</th>\n",
       "      <th>text</th>\n",
       "    </tr>\n",
       "  </thead>\n",
       "  <tbody>\n",
       "    <tr>\n",
       "      <th>52735</th>\n",
       "      <td>Kerala shelter home director rearrested for ra...</td>\n",
       "      <td>The Kerala Police has arrested a man for alleg...</td>\n",
       "    </tr>\n",
       "    <tr>\n",
       "      <th>42424</th>\n",
       "      <td>Reliance Jio, Saavn to create $1 bn music stre...</td>\n",
       "      <td>Reliance Industries has signed a deal to buy o...</td>\n",
       "    </tr>\n",
       "    <tr>\n",
       "      <th>31633</th>\n",
       "      <td>Jinnah was a 'maha purush' and will remain one...</td>\n",
       "      <td>Amid the ongoing controversy over Mohammad Ali...</td>\n",
       "    </tr>\n",
       "    <tr>\n",
       "      <th>54967</th>\n",
       "      <td>India jump to No. 2 in T20I rankings post SL s...</td>\n",
       "      <td>India jumped to the second spot in the ICC T20...</td>\n",
       "    </tr>\n",
       "    <tr>\n",
       "      <th>89019</th>\n",
       "      <td>Dwayne Johnson kisses Priyanka Chopra at Baywa...</td>\n",
       "      <td>Actor Dwayne Johnson kissed his Baywatch co-st...</td>\n",
       "    </tr>\n",
       "    <tr>\n",
       "      <th>91984</th>\n",
       "      <td>Gaga called Princess Diana just another dead b...</td>\n",
       "      <td>Singer Lady Gaga in her 2013 song Princess Die...</td>\n",
       "    </tr>\n",
       "    <tr>\n",
       "      <th>45888</th>\n",
       "      <td>Maha CM, wife appear in video on saving Mumbai...</td>\n",
       "      <td>Maharashtra CM Devendra Fadnavis and his wife ...</td>\n",
       "    </tr>\n",
       "    <tr>\n",
       "      <th>11991</th>\n",
       "      <td>Qualcomm says Apple $7 billion behind in royal...</td>\n",
       "      <td>Qualcomm on Friday said that Apple is $7 billi...</td>\n",
       "    </tr>\n",
       "    <tr>\n",
       "      <th>26474</th>\n",
       "      <td>Steve Smith once asked pacer to break my ribs:...</td>\n",
       "      <td>Indian spinner Kuldeep Yadav has revealed Stev...</td>\n",
       "    </tr>\n",
       "    <tr>\n",
       "      <th>81409</th>\n",
       "      <td>What would happen if something crossed a black...</td>\n",
       "      <td>According to British physicist Stephen Hawking...</td>\n",
       "    </tr>\n",
       "  </tbody>\n",
       "</table>\n",
       "</div>"
      ],
      "text/plain": [
       "                                               headlines  \\\n",
       "52735  Kerala shelter home director rearrested for ra...   \n",
       "42424  Reliance Jio, Saavn to create $1 bn music stre...   \n",
       "31633  Jinnah was a 'maha purush' and will remain one...   \n",
       "54967  India jump to No. 2 in T20I rankings post SL s...   \n",
       "89019  Dwayne Johnson kisses Priyanka Chopra at Baywa...   \n",
       "91984  Gaga called Princess Diana just another dead b...   \n",
       "45888  Maha CM, wife appear in video on saving Mumbai...   \n",
       "11991  Qualcomm says Apple $7 billion behind in royal...   \n",
       "26474  Steve Smith once asked pacer to break my ribs:...   \n",
       "81409  What would happen if something crossed a black...   \n",
       "\n",
       "                                                    text  \n",
       "52735  The Kerala Police has arrested a man for alleg...  \n",
       "42424  Reliance Industries has signed a deal to buy o...  \n",
       "31633  Amid the ongoing controversy over Mohammad Ali...  \n",
       "54967  India jumped to the second spot in the ICC T20...  \n",
       "89019  Actor Dwayne Johnson kissed his Baywatch co-st...  \n",
       "91984  Singer Lady Gaga in her 2013 song Princess Die...  \n",
       "45888  Maharashtra CM Devendra Fadnavis and his wife ...  \n",
       "11991  Qualcomm on Friday said that Apple is $7 billi...  \n",
       "26474  Indian spinner Kuldeep Yadav has revealed Stev...  \n",
       "81409  According to British physicist Stephen Hawking...  "
      ]
     },
     "execution_count": 3,
     "metadata": {},
     "output_type": "execute_result"
    }
   ],
   "source": [
    "data.sample(10)"
   ]
  },
  {
   "cell_type": "markdown",
   "id": "extended-layout",
   "metadata": {},
   "source": [
    "* 뉴스 기사 데이터가 어떻게 이루어져 있는지 확인하기 위해서, 10개의 sample을 출력\n",
    "* 해당 데이터는 headlines와 text로 이루어져 있는 데이터임을 확인"
   ]
  },
  {
   "cell_type": "code",
   "execution_count": 4,
   "id": "wrapped-unknown",
   "metadata": {},
   "outputs": [
    {
     "name": "stdout",
     "output_type": "stream",
     "text": [
      "Total number of sample : 98401\n",
      "upGrad learner switches to career in ML & Al with 90% salary hike\n",
      "Saurav Kant, an alumnus of upGrad and IIIT-B's PG Program in Machine learning and Artificial Intelligence, was a Sr Systems Engineer at Infosys with almost 5 years of work experience. The program and upGrad's 360-degree career support helped him transition to a Data Scientist at Tech Mahindra with 90% salary hike. upGrad's Online Power Learning has powered 3 lakh+ careers.\n"
     ]
    }
   ],
   "source": [
    "print('Total number of sample :',(len(data)))\n",
    "print(data.loc[0]['headlines'])\n",
    "print(data.loc[0]['text'])"
   ]
  },
  {
   "cell_type": "markdown",
   "id": "electric-portuguese",
   "metadata": {},
   "source": [
    "* 총 데이터의 갯수는 98,401개이며, headlines와 text로 이루어져 있음"
   ]
  },
  {
   "cell_type": "markdown",
   "id": "false-poker",
   "metadata": {},
   "source": [
    "## 2. 데이터 전처리"
   ]
  },
  {
   "cell_type": "code",
   "execution_count": 5,
   "id": "statewide-tobacco",
   "metadata": {},
   "outputs": [
    {
     "name": "stdout",
     "output_type": "stream",
     "text": [
      "text 열에서 중복을 배제한 유일한 샘플의 수 : 98360\n",
      "headlines 열에서 중복을 배제한 유일한 샘플의 수 : 98280\n"
     ]
    }
   ],
   "source": [
    "print('text 열에서 중복을 배제한 유일한 샘플의 수 :', data['text'].nunique())\n",
    "print('headlines 열에서 중복을 배제한 유일한 샘플의 수 :', data['headlines'].nunique())"
   ]
  },
  {
   "cell_type": "markdown",
   "id": "special-sport",
   "metadata": {},
   "source": [
    "* 중복되는 데이터를 제외한 데이터의 갯수를 확인\n",
    "* headlines는 text의 요약이므로, 동일한 요약들이 존재할 수 있음\n",
    "* 그러나, text 자체가 중복이 된 경우는 중복 샘플이므로 제거해야함"
   ]
  },
  {
   "cell_type": "code",
   "execution_count": 6,
   "id": "imported-converter",
   "metadata": {},
   "outputs": [
    {
     "name": "stdout",
     "output_type": "stream",
     "text": [
      "전체 샘플 수 : 98360\n"
     ]
    }
   ],
   "source": [
    "data.drop_duplicates(subset = ['text'], inplace = True)\n",
    "print('전체 샘플 수 :',(len(data)))"
   ]
  },
  {
   "cell_type": "markdown",
   "id": "departmental-rebel",
   "metadata": {},
   "source": [
    "* text의 중복 샘플을 drop_duplicates()를 이용하여 제거\n",
    "* 총 98,401개의 데이터 중, 41개의 중복 text를 제거하여 총 98360개의 유니크한 샘플을 이용할 예정"
   ]
  },
  {
   "cell_type": "code",
   "execution_count": 7,
   "id": "authentic-poison",
   "metadata": {},
   "outputs": [
    {
     "name": "stdout",
     "output_type": "stream",
     "text": [
      "headlines    0\n",
      "text         0\n",
      "dtype: int64\n"
     ]
    }
   ],
   "source": [
    "print(data.isnull().sum())"
   ]
  },
  {
   "cell_type": "markdown",
   "id": "important-combine",
   "metadata": {},
   "source": [
    "* dataframe 내 NULL 값이 존재하는지 확인\n",
    "* headlines와 text에 NULL 값이 존재하지 않으므로, 별다른 처리 과정 없이 사용"
   ]
  },
  {
   "cell_type": "code",
   "execution_count": 8,
   "id": "quality-contest",
   "metadata": {},
   "outputs": [
    {
     "name": "stdout",
     "output_type": "stream",
     "text": [
      "정규화 사전의 수:  120\n"
     ]
    }
   ],
   "source": [
    "contractions = {\"ain't\": \"is not\", \"aren't\": \"are not\",\"can't\": \"cannot\", \"'cause\": \"because\", \"could've\": \"could have\", \"couldn't\": \"could not\",\n",
    "                           \"didn't\": \"did not\",  \"doesn't\": \"does not\", \"don't\": \"do not\", \"hadn't\": \"had not\", \"hasn't\": \"has not\", \"haven't\": \"have not\",\n",
    "                           \"he'd\": \"he would\",\"he'll\": \"he will\", \"he's\": \"he is\", \"how'd\": \"how did\", \"how'd'y\": \"how do you\", \"how'll\": \"how will\", \"how's\": \"how is\",\n",
    "                           \"I'd\": \"I would\", \"I'd've\": \"I would have\", \"I'll\": \"I will\", \"I'll've\": \"I will have\",\"I'm\": \"I am\", \"I've\": \"I have\", \"i'd\": \"i would\",\n",
    "                           \"i'd've\": \"i would have\", \"i'll\": \"i will\",  \"i'll've\": \"i will have\",\"i'm\": \"i am\", \"i've\": \"i have\", \"isn't\": \"is not\", \"it'd\": \"it would\",\n",
    "                           \"it'd've\": \"it would have\", \"it'll\": \"it will\", \"it'll've\": \"it will have\",\"it's\": \"it is\", \"let's\": \"let us\", \"ma'am\": \"madam\",\n",
    "                           \"mayn't\": \"may not\", \"might've\": \"might have\",\"mightn't\": \"might not\",\"mightn't've\": \"might not have\", \"must've\": \"must have\",\n",
    "                           \"mustn't\": \"must not\", \"mustn't've\": \"must not have\", \"needn't\": \"need not\", \"needn't've\": \"need not have\",\"o'clock\": \"of the clock\",\n",
    "                           \"oughtn't\": \"ought not\", \"oughtn't've\": \"ought not have\", \"shan't\": \"shall not\", \"sha'n't\": \"shall not\", \"shan't've\": \"shall not have\",\n",
    "                           \"she'd\": \"she would\", \"she'd've\": \"she would have\", \"she'll\": \"she will\", \"she'll've\": \"she will have\", \"she's\": \"she is\",\n",
    "                           \"should've\": \"should have\", \"shouldn't\": \"should not\", \"shouldn't've\": \"should not have\", \"so've\": \"so have\",\"so's\": \"so as\",\n",
    "                           \"this's\": \"this is\",\"that'd\": \"that would\", \"that'd've\": \"that would have\", \"that's\": \"that is\", \"there'd\": \"there would\",\n",
    "                           \"there'd've\": \"there would have\", \"there's\": \"there is\", \"here's\": \"here is\",\"they'd\": \"they would\", \"they'd've\": \"they would have\",\n",
    "                           \"they'll\": \"they will\", \"they'll've\": \"they will have\", \"they're\": \"they are\", \"they've\": \"they have\", \"to've\": \"to have\",\n",
    "                           \"wasn't\": \"was not\", \"we'd\": \"we would\", \"we'd've\": \"we would have\", \"we'll\": \"we will\", \"we'll've\": \"we will have\", \"we're\": \"we are\",\n",
    "                           \"we've\": \"we have\", \"weren't\": \"were not\", \"what'll\": \"what will\", \"what'll've\": \"what will have\", \"what're\": \"what are\",\n",
    "                           \"what's\": \"what is\", \"what've\": \"what have\", \"when's\": \"when is\", \"when've\": \"when have\", \"where'd\": \"where did\", \"where's\": \"where is\",\n",
    "                           \"where've\": \"where have\", \"who'll\": \"who will\", \"who'll've\": \"who will have\", \"who's\": \"who is\", \"who've\": \"who have\",\n",
    "                           \"why's\": \"why is\", \"why've\": \"why have\", \"will've\": \"will have\", \"won't\": \"will not\", \"won't've\": \"will not have\",\n",
    "                           \"would've\": \"would have\", \"wouldn't\": \"would not\", \"wouldn't've\": \"would not have\", \"y'all\": \"you all\",\n",
    "                           \"y'all'd\": \"you all would\",\"y'all'd've\": \"you all would have\",\"y'all're\": \"you all are\",\"y'all've\": \"you all have\",\n",
    "                           \"you'd\": \"you would\", \"you'd've\": \"you would have\", \"you'll\": \"you will\", \"you'll've\": \"you will have\",\n",
    "                           \"you're\": \"you are\", \"you've\": \"you have\"}\n",
    "\n",
    "print(\"정규화 사전의 수: \", len(contractions))"
   ]
  },
  {
   "cell_type": "markdown",
   "id": "center-beatles",
   "metadata": {},
   "source": [
    "* text normalization\n",
    "* 같은 의미이지만 다른 표현으로 사용되는 단어들을 같은 단어로 통일시켜주는 역할\n",
    "* text 정규화를 위한 사전을 구성"
   ]
  },
  {
   "cell_type": "code",
   "execution_count": 9,
   "id": "surface-yeast",
   "metadata": {},
   "outputs": [
    {
     "name": "stdout",
     "output_type": "stream",
     "text": [
      "불용어 개수 : 179\n",
      "['i', 'me', 'my', 'myself', 'we', 'our', 'ours', 'ourselves', 'you', \"you're\", \"you've\", \"you'll\", \"you'd\", 'your', 'yours', 'yourself', 'yourselves', 'he', 'him', 'his', 'himself', 'she', \"she's\", 'her', 'hers', 'herself', 'it', \"it's\", 'its', 'itself', 'they', 'them', 'their', 'theirs', 'themselves', 'what', 'which', 'who', 'whom', 'this', 'that', \"that'll\", 'these', 'those', 'am', 'is', 'are', 'was', 'were', 'be', 'been', 'being', 'have', 'has', 'had', 'having', 'do', 'does', 'did', 'doing', 'a', 'an', 'the', 'and', 'but', 'if', 'or', 'because', 'as', 'until', 'while', 'of', 'at', 'by', 'for', 'with', 'about', 'against', 'between', 'into', 'through', 'during', 'before', 'after', 'above', 'below', 'to', 'from', 'up', 'down', 'in', 'out', 'on', 'off', 'over', 'under', 'again', 'further', 'then', 'once', 'here', 'there', 'when', 'where', 'why', 'how', 'all', 'any', 'both', 'each', 'few', 'more', 'most', 'other', 'some', 'such', 'no', 'nor', 'not', 'only', 'own', 'same', 'so', 'than', 'too', 'very', 's', 't', 'can', 'will', 'just', 'don', \"don't\", 'should', \"should've\", 'now', 'd', 'll', 'm', 'o', 're', 've', 'y', 'ain', 'aren', \"aren't\", 'couldn', \"couldn't\", 'didn', \"didn't\", 'doesn', \"doesn't\", 'hadn', \"hadn't\", 'hasn', \"hasn't\", 'haven', \"haven't\", 'isn', \"isn't\", 'ma', 'mightn', \"mightn't\", 'mustn', \"mustn't\", 'needn', \"needn't\", 'shan', \"shan't\", 'shouldn', \"shouldn't\", 'wasn', \"wasn't\", 'weren', \"weren't\", 'won', \"won't\", 'wouldn', \"wouldn't\"]\n"
     ]
    }
   ],
   "source": [
    "print('불용어 개수 :', len(stopwords.words('english') ))\n",
    "print(stopwords.words('english'))"
   ]
  },
  {
   "cell_type": "markdown",
   "id": "opponent-roller",
   "metadata": {},
   "source": [
    "* NLTK에서 제공하는 불용어 리스트를 참조하여, 샘플에서 불용어를 제거할 예정\n",
    "* 불용어 리스트에는 총 179개의 불용어가 존재"
   ]
  },
  {
   "cell_type": "code",
   "execution_count": 10,
   "id": "ceramic-population",
   "metadata": {},
   "outputs": [],
   "source": [
    "def preprocess_sentence(sentence, remove_stopwords=True):\n",
    "    sentence = sentence.lower() # 텍스트 소문자화\n",
    "    sentence = BeautifulSoup(sentence, \"lxml\").text # <br />, <a href = ...> 등의 html 태그 제거\n",
    "    sentence = re.sub(r'\\([^)]*\\)', '', sentence) # 괄호로 닫힌 문자열 (...) 제거 Ex) my husband (and myself!) for => my husband for\n",
    "    sentence = re.sub('\"','', sentence) # 쌍따옴표 \" 제거\n",
    "    sentence = ' '.join([contractions[t] if t in contractions else t for t in sentence.split(\" \")]) # 약어 정규화\n",
    "    sentence = re.sub(r\"'s\\b\",\"\",sentence) # 소유격 제거. Ex) roland's -> roland\n",
    "    sentence = re.sub(\"[^a-zA-Z]\", \" \", sentence) # 영어 외 문자(숫자, 특수문자 등) 공백으로 변환\n",
    "    sentence = re.sub('[m]{2,}', 'mm', sentence) # m이 3개 이상이면 2개로 변경. Ex) ummmmmmm yeah -> umm yeah\n",
    "    \n",
    "    # 불용어 제거 (text)\n",
    "    if remove_stopwords:\n",
    "        tokens = ' '.join(word for word in sentence.split() if not word in stopwords.words('english') if len(word) > 1)\n",
    "    # 불용어 미제거 (headlines)\n",
    "    else:\n",
    "        tokens = ' '.join(word for word in sentence.split() if len(word) > 1)\n",
    "    return tokens"
   ]
  },
  {
   "cell_type": "markdown",
   "id": "excellent-transaction",
   "metadata": {},
   "source": [
    "* preprocess_sentence(): 텍스트 전처리 함수\n",
    "* text 소문자화, html 태그 제거, 괄호로 둘러 쌓여 있는 문자열 제거, 쌍따옴표와 따옴표 제거, 약어 정규화, 쇼유격 제거, 영어 외 문자 공백으로 변환, m이 3개 이상이면 2개로 변경하는 과정을 거침\n",
    "* 이후, if 조건문을 이용하여 text에 있는 불용어를 제거하고, headlines에 있는 불용어는 제거하지 않음"
   ]
  },
  {
   "cell_type": "code",
   "execution_count": 11,
   "id": "atomic-gentleman",
   "metadata": {},
   "outputs": [
    {
     "data": {
      "text/plain": [
       "['saurav kant alumnus upgrad iiit pg program machine learning artificial intelligence sr systems engineer infosys almost years work experience program upgrad degree career support helped transition data scientist tech mahindra salary hike upgrad online power learning powered lakh careers',\n",
       " 'kunal shah credit card bill payment platform cred gave users chance win free food swiggy one year pranav kaushik delhi techie bagged reward spending cred coins users get one cred coin per rupee bill paid used avail rewards brands like ixigo bookmyshow ubereats cult fit',\n",
       " 'new zealand defeated india wickets fourth odi hamilton thursday win first match five match odi series india lost international match rohit sharma captaincy consecutive victories dating back march match witnessed india getting seventh lowest total odi cricket history',\n",
       " 'aegon life iterm insurance plan customers enjoy tax benefits premiums paid save taxes plan provides life cover age years also customers options insure critical illnesses disability accidental death benefit rider life cover age years',\n",
       " 'speaking sexual harassment allegations rajkumar hirani sonam kapoor said known hirani many years true metoo movement get derailed metoo movement always believe woman case need reserve judgment added hirani accused assistant worked sanju']"
      ]
     },
     "execution_count": 11,
     "metadata": {},
     "output_type": "execute_result"
    }
   ],
   "source": [
    "clean_text = []\n",
    "\n",
    "for s in data['text']:\n",
    "    clean_text.append(preprocess_sentence(s))\n",
    "\n",
    "clean_text[:5]"
   ]
  },
  {
   "cell_type": "markdown",
   "id": "remarkable-journal",
   "metadata": {},
   "source": [
    "* 전체 text에 대하여 전처리 과정을 거침\n",
    "* 전처리 과정을 거친 text 데이터는 clean_text라는 빈 리스트에 추가"
   ]
  },
  {
   "cell_type": "code",
   "execution_count": 12,
   "id": "cultural-clear",
   "metadata": {},
   "outputs": [
    {
     "data": {
      "text/plain": [
       "['upgrad learner switches to career in ml al with salary hike',\n",
       " 'delhi techie wins free food from swiggy for one year on cred',\n",
       " 'new zealand end rohit sharma led india match winning streak',\n",
       " 'aegon life iterm insurance plan helps customers save tax',\n",
       " 'have known hirani for yrs what if metoo claims are not true sonam']"
      ]
     },
     "execution_count": 12,
     "metadata": {},
     "output_type": "execute_result"
    }
   ],
   "source": [
    "clean_headlines = []\n",
    "\n",
    "for s in data['headlines']:\n",
    "    clean_headlines.append(preprocess_sentence(s, False)) # 불용어를 제거하지 않습니다.\n",
    "\n",
    "clean_headlines[:5]"
   ]
  },
  {
   "cell_type": "markdown",
   "id": "contemporary-contents",
   "metadata": {},
   "source": [
    "* 전체 headlines에 대하여 전처리 과정을 거침\n",
    "* 전처리 과정을 거친 headlines 데이터는 clean_headlines 이라는 빈 리스트에 추가"
   ]
  },
  {
   "cell_type": "code",
   "execution_count": 13,
   "id": "deluxe-confidentiality",
   "metadata": {},
   "outputs": [],
   "source": [
    "data['text'] = clean_text\n",
    "data['headlines'] = clean_headlines\n",
    "\n",
    "data.replace('', np.nan, inplace=True)"
   ]
  },
  {
   "cell_type": "markdown",
   "id": "pleased-cartoon",
   "metadata": {},
   "source": [
    "* dataframe의 text와 headlines 열의 데이터들을 전처리 과정을 거친 clean_text와 clean_headlines 데이터로 바꿈\n",
    "* dataframe에 빈 문자열이 존재하는 경우, NULL 값으로 변환"
   ]
  },
  {
   "cell_type": "code",
   "execution_count": 14,
   "id": "soviet-township",
   "metadata": {},
   "outputs": [
    {
     "data": {
      "text/plain": [
       "headlines    0\n",
       "text         0\n",
       "dtype: int64"
      ]
     },
     "execution_count": 14,
     "metadata": {},
     "output_type": "execute_result"
    }
   ],
   "source": [
    "data.isnull().sum()"
   ]
  },
  {
   "cell_type": "markdown",
   "id": "improved-observer",
   "metadata": {},
   "source": [
    "* dataframe 내에 NULL 값이 존재하는지 확인"
   ]
  },
  {
   "cell_type": "markdown",
   "id": "nutritional-richmond",
   "metadata": {},
   "source": [
    "## 3. 훈련 데이터와 테스트 데이터 분리"
   ]
  },
  {
   "cell_type": "code",
   "execution_count": 15,
   "id": "diagnostic-plymouth",
   "metadata": {},
   "outputs": [
    {
     "name": "stdout",
     "output_type": "stream",
     "text": [
      "텍스트의 최소 길이 : 1\n",
      "텍스트의 최대 길이 : 60\n",
      "텍스트의 평균 길이 : 35.09968483123221\n",
      "요약의 최소 길이 : 1\n",
      "요약의 최대 길이 : 16\n",
      "요약의 평균 길이 : 9.299532330215534\n"
     ]
    },
    {
     "data": {
      "image/png": "[encoded data removed]",
      "text/plain": [
       "<Figure size 432x288 with 2 Axes>"
      ]
     },
     "metadata": {
      "needs_background": "light"
     },
     "output_type": "display_data"
    },
    {
     "data": {
      "image/png": "[encoded data removed]",
      "text/plain": [
       "<Figure size 432x288 with 1 Axes>"
      ]
     },
     "metadata": {
      "needs_background": "light"
     },
     "output_type": "display_data"
    },
    {
     "data": {
      "image/png": "[encoded data removed]",
      "text/plain": [
       "<Figure size 432x288 with 1 Axes>"
      ]
     },
     "metadata": {
      "needs_background": "light"
     },
     "output_type": "display_data"
    }
   ],
   "source": [
    "import matplotlib.pyplot as plt\n",
    "\n",
    "text_len = [len(s.split()) for s in data['text']]\n",
    "headlines_len = [len(s.split()) for s in data['headlines']]\n",
    "\n",
    "print('텍스트의 최소 길이 : {}'.format(np.min(text_len)))\n",
    "print('텍스트의 최대 길이 : {}'.format(np.max(text_len)))\n",
    "print('텍스트의 평균 길이 : {}'.format(np.mean(text_len)))\n",
    "print('요약의 최소 길이 : {}'.format(np.min(headlines_len)))\n",
    "print('요약의 최대 길이 : {}'.format(np.max(headlines_len)))\n",
    "print('요약의 평균 길이 : {}'.format(np.mean(headlines_len)))\n",
    "\n",
    "plt.subplot(1,2,1)\n",
    "plt.boxplot(headlines_len)\n",
    "plt.title('headlines')\n",
    "plt.subplot(1,2,2)\n",
    "plt.boxplot(text_len)\n",
    "plt.title('text')\n",
    "plt.tight_layout()\n",
    "plt.show()\n",
    "\n",
    "plt.title('headlines')\n",
    "plt.hist(headlines_len, bins = 40)\n",
    "plt.xlabel('length of samples')\n",
    "plt.ylabel('number of samples')\n",
    "plt.show()\n",
    "\n",
    "plt.title('text')\n",
    "plt.hist(text_len, bins = 40)\n",
    "plt.xlabel('length of samples')\n",
    "plt.ylabel('number of samples')\n",
    "plt.show()"
   ]
  },
  {
   "cell_type": "markdown",
   "id": "pediatric-tonight",
   "metadata": {},
   "source": [
    "* text와 headlines의 최소, 최대, 평균 길이를 확인하고 길이 분포를 시각화\n",
    "* text의 경우, 최소 길이와 최대 길이의 차이가 크지만, 대체적으로 25 ~ 45 사이의 길이를 갖는다는 것을 그래프를 통해 확인\n",
    "* headlines의 경우, 최소 길이와 최대 길이의 차이가 크지 않고, text에 비해 길이가 상대적으로 짧음"
   ]
  },
  {
   "cell_type": "code",
   "execution_count": 16,
   "id": "talented-cathedral",
   "metadata": {},
   "outputs": [],
   "source": [
    "text_max_len = 45\n",
    "headlines_max_len = 13"
   ]
  },
  {
   "cell_type": "markdown",
   "id": "continued-helena",
   "metadata": {},
   "source": [
    "* text와 headlines의 적절한 최대 길이를 임의로 설정"
   ]
  },
  {
   "cell_type": "code",
   "execution_count": 17,
   "id": "olive-canyon",
   "metadata": {},
   "outputs": [],
   "source": [
    "def below_threshold_len(max_len, nested_list):\n",
    "    cnt = 0\n",
    "    for s in nested_list:\n",
    "        if(len(s.split()) <= max_len):\n",
    "            cnt = cnt + 1\n",
    "    print('전체 샘플 중 길이가 %s 이하인 샘플의 비율: %s'%(max_len, (cnt / len(nested_list))))"
   ]
  },
  {
   "cell_type": "code",
   "execution_count": 18,
   "id": "later-honduras",
   "metadata": {},
   "outputs": [
    {
     "name": "stdout",
     "output_type": "stream",
     "text": [
      "전체 샘플 중 길이가 45 이하인 샘플의 비율: 0.9967771451809678\n",
      "전체 샘플 중 길이가 13 이하인 샘플의 비율: 0.9981699877999186\n"
     ]
    }
   ],
   "source": [
    "below_threshold_len(text_max_len, data['text'])\n",
    "below_threshold_len(headlines_max_len, data['headlines'])"
   ]
  },
  {
   "cell_type": "markdown",
   "id": "amateur-bankruptcy",
   "metadata": {},
   "source": [
    "* 이전에 정한 최대 길이를 기준에 포함되는 text와 headlines의 비율을 계산하는 함수\n",
    "* text와 headlines의 약 99% 이상의 데이터들이 포함되는 것을 확인"
   ]
  },
  {
   "cell_type": "code",
   "execution_count": 19,
   "id": "understood-whale",
   "metadata": {},
   "outputs": [
    {
     "name": "stdout",
     "output_type": "stream",
     "text": [
      "전체 샘플 수 : 97863\n"
     ]
    }
   ],
   "source": [
    "data = data[data['text'].apply(lambda x: len(x.split()) <= text_max_len)]\n",
    "data = data[data['headlines'].apply(lambda x: len(x.split()) <= headlines_max_len)]\n",
    "print('전체 샘플 수 :',(len(data)))"
   ]
  },
  {
   "cell_type": "markdown",
   "id": "cultural-puppy",
   "metadata": {},
   "source": [
    "* 이전에 설정한 최대 길이보다 짧은 text, headlines만 dataframe에 남겨놓음\n",
    "* 설정한 최대 길이보다 긴 데이터들은 dataframe에서 제외\n",
    "* 최종적으로 남는 샘플의 수는 97,863개"
   ]
  },
  {
   "cell_type": "code",
   "execution_count": 20,
   "id": "infrared-treasurer",
   "metadata": {},
   "outputs": [
    {
     "data": {
      "text/html": [
       "<div>\n",
       "<style scoped>\n",
       "    .dataframe tbody tr th:only-of-type {\n",
       "        vertical-align: middle;\n",
       "    }\n",
       "\n",
       "    .dataframe tbody tr th {\n",
       "        vertical-align: top;\n",
       "    }\n",
       "\n",
       "    .dataframe thead th {\n",
       "        text-align: right;\n",
       "    }\n",
       "</style>\n",
       "<table border=\"1\" class=\"dataframe\">\n",
       "  <thead>\n",
       "    <tr style=\"text-align: right;\">\n",
       "      <th></th>\n",
       "      <th>headlines</th>\n",
       "      <th>text</th>\n",
       "      <th>decoder_input</th>\n",
       "      <th>decoder_target</th>\n",
       "    </tr>\n",
       "  </thead>\n",
       "  <tbody>\n",
       "    <tr>\n",
       "      <th>0</th>\n",
       "      <td>upgrad learner switches to career in ml al wit...</td>\n",
       "      <td>saurav kant alumnus upgrad iiit pg program mac...</td>\n",
       "      <td>sostoken upgrad learner switches to career in ...</td>\n",
       "      <td>upgrad learner switches to career in ml al wit...</td>\n",
       "    </tr>\n",
       "    <tr>\n",
       "      <th>1</th>\n",
       "      <td>delhi techie wins free food from swiggy for on...</td>\n",
       "      <td>kunal shah credit card bill payment platform c...</td>\n",
       "      <td>sostoken delhi techie wins free food from swig...</td>\n",
       "      <td>delhi techie wins free food from swiggy for on...</td>\n",
       "    </tr>\n",
       "    <tr>\n",
       "      <th>2</th>\n",
       "      <td>new zealand end rohit sharma led india match w...</td>\n",
       "      <td>new zealand defeated india wickets fourth odi ...</td>\n",
       "      <td>sostoken new zealand end rohit sharma led indi...</td>\n",
       "      <td>new zealand end rohit sharma led india match w...</td>\n",
       "    </tr>\n",
       "    <tr>\n",
       "      <th>3</th>\n",
       "      <td>aegon life iterm insurance plan helps customer...</td>\n",
       "      <td>aegon life iterm insurance plan customers enjo...</td>\n",
       "      <td>sostoken aegon life iterm insurance plan helps...</td>\n",
       "      <td>aegon life iterm insurance plan helps customer...</td>\n",
       "    </tr>\n",
       "    <tr>\n",
       "      <th>4</th>\n",
       "      <td>have known hirani for yrs what if metoo claims...</td>\n",
       "      <td>speaking sexual harassment allegations rajkuma...</td>\n",
       "      <td>sostoken have known hirani for yrs what if met...</td>\n",
       "      <td>have known hirani for yrs what if metoo claims...</td>\n",
       "    </tr>\n",
       "  </tbody>\n",
       "</table>\n",
       "</div>"
      ],
      "text/plain": [
       "                                           headlines  \\\n",
       "0  upgrad learner switches to career in ml al wit...   \n",
       "1  delhi techie wins free food from swiggy for on...   \n",
       "2  new zealand end rohit sharma led india match w...   \n",
       "3  aegon life iterm insurance plan helps customer...   \n",
       "4  have known hirani for yrs what if metoo claims...   \n",
       "\n",
       "                                                text  \\\n",
       "0  saurav kant alumnus upgrad iiit pg program mac...   \n",
       "1  kunal shah credit card bill payment platform c...   \n",
       "2  new zealand defeated india wickets fourth odi ...   \n",
       "3  aegon life iterm insurance plan customers enjo...   \n",
       "4  speaking sexual harassment allegations rajkuma...   \n",
       "\n",
       "                                       decoder_input  \\\n",
       "0  sostoken upgrad learner switches to career in ...   \n",
       "1  sostoken delhi techie wins free food from swig...   \n",
       "2  sostoken new zealand end rohit sharma led indi...   \n",
       "3  sostoken aegon life iterm insurance plan helps...   \n",
       "4  sostoken have known hirani for yrs what if met...   \n",
       "\n",
       "                                      decoder_target  \n",
       "0  upgrad learner switches to career in ml al wit...  \n",
       "1  delhi techie wins free food from swiggy for on...  \n",
       "2  new zealand end rohit sharma led india match w...  \n",
       "3  aegon life iterm insurance plan helps customer...  \n",
       "4  have known hirani for yrs what if metoo claims...  "
      ]
     },
     "execution_count": 20,
     "metadata": {},
     "output_type": "execute_result"
    }
   ],
   "source": [
    "data['decoder_input'] = data['headlines'].apply(lambda x : 'sostoken '+ x)\n",
    "data['decoder_target'] = data['headlines'].apply(lambda x : x + ' eostoken')\n",
    "data.head()"
   ]
  },
  {
   "cell_type": "markdown",
   "id": "intellectual-nutrition",
   "metadata": {},
   "source": [
    "* 요약 데이터에 시작 토큰과 종료 토큰을 추가\n",
    "* 디코더에서 시작 토큰을 입력받아 문장을 생성하기 시작하고, 종료 토큰을 예측하는 순간 문장 생성을 멈춤"
   ]
  },
  {
   "cell_type": "code",
   "execution_count": 21,
   "id": "objective-webster",
   "metadata": {},
   "outputs": [],
   "source": [
    "encoder_input = np.array(data['text'])\n",
    "decoder_input = np.array(data['decoder_input'])\n",
    "decoder_target = np.array(data['decoder_target'])"
   ]
  },
  {
   "cell_type": "markdown",
   "id": "headed-compiler",
   "metadata": {},
   "source": [
    "* 인코더의 입력, 디코더의 입력, 디코더의 레이블을 numpy 타입으로 dataframe에 저장"
   ]
  },
  {
   "cell_type": "code",
   "execution_count": 22,
   "id": "smaller-rolling",
   "metadata": {},
   "outputs": [
    {
     "name": "stdout",
     "output_type": "stream",
     "text": [
      "[24759 80887 32385 ... 72385 69610 11070]\n"
     ]
    }
   ],
   "source": [
    "indices = np.arange(encoder_input.shape[0])\n",
    "np.random.shuffle(indices)\n",
    "print(indices)"
   ]
  },
  {
   "cell_type": "markdown",
   "id": "processed-worship",
   "metadata": {},
   "source": [
    "* 훈련 데이터와 테스트 데이터를 분리하기 전에, encoder_input과 크기와 형태가 같은 순서가 섞인 정수 시퀀스를 선언"
   ]
  },
  {
   "cell_type": "code",
   "execution_count": 23,
   "id": "studied-investor",
   "metadata": {},
   "outputs": [],
   "source": [
    "encoder_input = encoder_input[indices]\n",
    "decoder_input = decoder_input[indices]\n",
    "decoder_target = decoder_target[indices]"
   ]
  },
  {
   "cell_type": "markdown",
   "id": "significant-cosmetic",
   "metadata": {},
   "source": [
    "* 앞서 만든 정수 시퀀스를 이용하여, 데이터의 샘플 순서를 정의\n",
    "* 샘플을 섞어주는 역할을 수행"
   ]
  },
  {
   "cell_type": "code",
   "execution_count": 24,
   "id": "square-klein",
   "metadata": {},
   "outputs": [
    {
     "name": "stdout",
     "output_type": "stream",
     "text": [
      "테스트 데이터의 수 : 19572\n"
     ]
    }
   ],
   "source": [
    "n_of_val = int(len(encoder_input)*0.2)\n",
    "print('테스트 데이터의 수 :',n_of_val)"
   ]
  },
  {
   "cell_type": "markdown",
   "id": "entertaining-indonesian",
   "metadata": {},
   "source": [
    "* 섞인 데이터를 8:2의 비율로 훈련 데이터와 테스트 데이터로 분리할 예정\n",
    "* 전체 데이터 크기에 0.2를 곱하여, 테스트 데이터의 크기를 정의"
   ]
  },
  {
   "cell_type": "code",
   "execution_count": 25,
   "id": "fifty-grant",
   "metadata": {},
   "outputs": [
    {
     "name": "stdout",
     "output_type": "stream",
     "text": [
      "훈련 데이터의 개수 : 78291\n",
      "훈련 레이블의 개수 : 78291\n",
      "테스트 데이터의 개수 : 19572\n",
      "테스트 레이블의 개수 : 19572\n"
     ]
    }
   ],
   "source": [
    "encoder_input_train = encoder_input[:-n_of_val]\n",
    "decoder_input_train = decoder_input[:-n_of_val]\n",
    "decoder_target_train = decoder_target[:-n_of_val]\n",
    "\n",
    "encoder_input_test = encoder_input[-n_of_val:]\n",
    "decoder_input_test = decoder_input[-n_of_val:]\n",
    "decoder_target_test = decoder_target[-n_of_val:]\n",
    "\n",
    "print('훈련 데이터의 개수 :',len(encoder_input_train))\n",
    "print('훈련 레이블의 개수 :',len(decoder_input_train))\n",
    "print('테스트 데이터의 개수 :',len(encoder_input_test))\n",
    "print('테스트 레이블의 개수 :',len(decoder_input_test))"
   ]
  },
  {
   "cell_type": "markdown",
   "id": "isolated-assessment",
   "metadata": {},
   "source": [
    "* 앞서 정의한 테스트 데이터의 갯수를 이용하여 전체 데이터를 훈련 데이터와 테스트 데이터로 양분\n",
    "* 총 훈련 데이터는 78,291개이고, 테스트 데이터는 19,572개"
   ]
  },
  {
   "cell_type": "markdown",
   "id": "suffering-billy",
   "metadata": {},
   "source": [
    "## 4. 정수 인코딩"
   ]
  },
  {
   "cell_type": "code",
   "execution_count": 26,
   "id": "printable-integration",
   "metadata": {},
   "outputs": [],
   "source": [
    "src_tokenizer = Tokenizer()\n",
    "src_tokenizer.fit_on_texts(encoder_input_train)"
   ]
  },
  {
   "cell_type": "markdown",
   "id": "alternative-destruction",
   "metadata": {},
   "source": [
    "* keras 토크나이저 정의\n",
    "* 토크나이저를 이용하여, 입력된 데이터로부터 단어 집합을 생성"
   ]
  },
  {
   "cell_type": "code",
   "execution_count": 27,
   "id": "understood-bookmark",
   "metadata": {
    "scrolled": true
   },
   "outputs": [
    {
     "name": "stdout",
     "output_type": "stream",
     "text": [
      "단어 집합(vocabulary)의 크기 : 69172\n",
      "등장 빈도가 6번 이하인 희귀 단어의 수: 47107\n",
      "단어 집합에서 희귀 단어를 제외시킬 경우의 단어 집합의 크기 22065\n",
      "단어 집합에서 희귀 단어의 비율: 68.10125484300006\n",
      "전체 등장 빈도에서 희귀 단어 등장 빈도 비율: 3.4844656265128138\n"
     ]
    }
   ],
   "source": [
    "threshold = 7\n",
    "total_cnt = len(src_tokenizer.word_index) # 단어의 수\n",
    "rare_cnt = 0 # 등장 빈도수가 threshold보다 작은 단어의 개수를 카운트\n",
    "total_freq = 0 # 훈련 데이터의 전체 단어 빈도수 총 합\n",
    "rare_freq = 0 # 등장 빈도수가 threshold보다 작은 단어의 등장 빈도수의 총 합\n",
    "\n",
    "# 단어와 빈도수의 쌍(pair)을 key와 value로 받는다.\n",
    "for key, value in src_tokenizer.word_counts.items():\n",
    "    total_freq = total_freq + value\n",
    "\n",
    "    # 단어의 등장 빈도수가 threshold보다 작으면\n",
    "    if(value < threshold):\n",
    "        rare_cnt = rare_cnt + 1\n",
    "        rare_freq = rare_freq + value\n",
    "\n",
    "print('단어 집합(vocabulary)의 크기 :',total_cnt)\n",
    "print('등장 빈도가 %s번 이하인 희귀 단어의 수: %s'%(threshold - 1, rare_cnt))\n",
    "print('단어 집합에서 희귀 단어를 제외시킬 경우의 단어 집합의 크기 %s'%(total_cnt - rare_cnt))\n",
    "print(\"단어 집합에서 희귀 단어의 비율:\", (rare_cnt / total_cnt)*100)\n",
    "print(\"전체 등장 빈도에서 희귀 단어 등장 빈도 비율:\", (rare_freq / total_freq)*100)"
   ]
  },
  {
   "cell_type": "markdown",
   "id": "residential-aruba",
   "metadata": {},
   "source": [
    "* threshold를 설정하여, 등장 빈도가 7회 미만인 단어들의 갯수를 카운트\n",
    "* 또한, 전체 단어의 빈도수 총합과 threshold보다 빈도수가 작은 단어의 등장 빈도수의 총합을 출력\n",
    "* 해당 코드를 통해서, 데이터 내 각 단어의 등장 빈도수를 확인\n",
    "* threshold 보다 빈도수가 적은 단어의 갯수는 47,107개로 약 68%\n",
    "* 등장 빈도가 threshold 보다 작은 단어들은 정수 인코딩 과정에서 제외하고, 훈련 데이터에서 제거할 예정"
   ]
  },
  {
   "cell_type": "code",
   "execution_count": 28,
   "id": "rental-realtor",
   "metadata": {},
   "outputs": [],
   "source": [
    "src_vocab = 20000\n",
    "src_tokenizer = Tokenizer(num_words = src_vocab)\n",
    "src_tokenizer.fit_on_texts(encoder_input_train)"
   ]
  },
  {
   "cell_type": "markdown",
   "id": "willing-hearing",
   "metadata": {},
   "source": [
    "* 등장 빈도가 threshold 보다 적은 단어들을 제외한 단어 집합의 크기가 22,065개 이므로, 단어 집합의 크기를 20,000으로 설정\n",
    "* 단어 집합의 크기를 이용하여, 단어 집합을 재생성"
   ]
  },
  {
   "cell_type": "code",
   "execution_count": 29,
   "id": "skilled-scanning",
   "metadata": {},
   "outputs": [
    {
     "name": "stdout",
     "output_type": "stream",
     "text": [
      "[[28, 2715, 102, 8651, 10968, 891, 1616, 253, 91, 716, 253, 2962, 14759, 1418, 3054, 2755, 4389, 1460, 5790, 28, 253, 102, 1222, 7047, 1611, 891, 5790, 2715, 253, 9431, 468, 20, 208, 8651, 280, 5790, 2715, 280, 91], [1114, 64, 53, 765, 3649, 152, 140, 12899, 85, 1162, 111, 4241, 2172, 1052, 152, 41, 629, 631, 64, 205, 698, 2665, 9, 411, 77, 291, 2172, 12899], [1238, 112, 7854, 1879, 256, 3377, 8791, 1332, 366, 3183, 497, 54, 30, 1579, 97, 2333, 4318, 5169, 5461, 3377, 366, 246, 11242, 2179, 1955, 934, 144, 24, 72, 225, 2032, 28, 5323, 2032, 370, 249, 14222]]\n"
     ]
    }
   ],
   "source": [
    "encoder_input_train = src_tokenizer.texts_to_sequences(encoder_input_train) \n",
    "encoder_input_test = src_tokenizer.texts_to_sequences(encoder_input_test)\n",
    "\n",
    "print(encoder_input_train[:3])"
   ]
  },
  {
   "cell_type": "markdown",
   "id": "narrative-bridge",
   "metadata": {},
   "source": [
    "* 텍스트 시퀀스를 정수 시퀀스로 변환하고, 샘플을 출력하여 확인"
   ]
  },
  {
   "cell_type": "code",
   "execution_count": 30,
   "id": "imported-delivery",
   "metadata": {},
   "outputs": [],
   "source": [
    "tar_tokenizer = Tokenizer()\n",
    "tar_tokenizer.fit_on_texts(decoder_input_train)"
   ]
  },
  {
   "cell_type": "markdown",
   "id": "twenty-banner",
   "metadata": {},
   "source": [
    "* keras의 토크나이저를 이용하여, decoder_input에 대해서도 encoder_input과 똑같은 작업을 수행"
   ]
  },
  {
   "cell_type": "code",
   "execution_count": 31,
   "id": "polish-multiple",
   "metadata": {},
   "outputs": [
    {
     "name": "stdout",
     "output_type": "stream",
     "text": [
      "단어 집합(vocabulary)의 크기 : 29982\n",
      "등장 빈도가 5번 이하인 희귀 단어의 수: 19559\n",
      "단어 집합에서 희귀 단어를 제외시킬 경우의 단어 집합의 크기 10423\n",
      "단어 집합에서 희귀 단어의 비율: 65.2358081515576\n",
      "전체 등장 빈도에서 희귀 단어 등장 빈도 비율: 4.645335915868936\n"
     ]
    }
   ],
   "source": [
    "threshold = 6\n",
    "total_cnt = len(tar_tokenizer.word_index) # 단어의 수\n",
    "rare_cnt = 0 # 등장 빈도수가 threshold보다 작은 단어의 개수를 카운트\n",
    "total_freq = 0 # 훈련 데이터의 전체 단어 빈도수 총 합\n",
    "rare_freq = 0 # 등장 빈도수가 threshold보다 작은 단어의 등장 빈도수의 총 합\n",
    "\n",
    "# 단어와 빈도수의 쌍(pair)을 key와 value로 받는다.\n",
    "for key, value in tar_tokenizer.word_counts.items():\n",
    "    total_freq = total_freq + value\n",
    "\n",
    "    # 단어의 등장 빈도수가 threshold보다 작으면\n",
    "    if(value < threshold):\n",
    "        rare_cnt = rare_cnt + 1\n",
    "        rare_freq = rare_freq + value\n",
    "\n",
    "print('단어 집합(vocabulary)의 크기 :',total_cnt)\n",
    "print('등장 빈도가 %s번 이하인 희귀 단어의 수: %s'%(threshold - 1, rare_cnt))\n",
    "print('단어 집합에서 희귀 단어를 제외시킬 경우의 단어 집합의 크기 %s'%(total_cnt - rare_cnt))\n",
    "print(\"단어 집합에서 희귀 단어의 비율:\", (rare_cnt / total_cnt)*100)\n",
    "print(\"전체 등장 빈도에서 희귀 단어 등장 빈도 비율:\", (rare_freq / total_freq)*100)"
   ]
  },
  {
   "cell_type": "markdown",
   "id": "increasing-litigation",
   "metadata": {},
   "source": [
    "* threshold를 설정하여, 등장 빈도가 6회 미만인 단어들의 갯수를 카운트\n",
    "* 또한, 전체 단어의 빈도수 총합과 threshold보다 빈도수가 작은 단어의 등장 빈도수의 총합을 출력\n",
    "* 해당 코드를 통해서, 데이터 내 각 단어의 등장 빈도수를 확인\n",
    "* threshold 보다 빈도수가 적은 단어의 갯수는 19,559개로 약 65%\n",
    "* 등장 빈도가 threshold 보다 작은 단어들은 정수 인코딩 과정에서 제외하고, 훈련 데이터에서 제거할 예정"
   ]
  },
  {
   "cell_type": "code",
   "execution_count": 32,
   "id": "quarterly-accordance",
   "metadata": {},
   "outputs": [
    {
     "name": "stdout",
     "output_type": "stream",
     "text": [
      "input\n",
      "input  [[1, 5017, 3, 1311, 4823, 3482, 1218, 473, 2582, 11], [1, 39, 1002, 83, 2303, 122, 5, 181, 3, 5416], [1, 394, 1219, 644, 3, 2036, 271, 1890, 131, 117, 590], [1, 886, 65, 299, 24, 46, 1099, 520, 6461, 3, 146], [1, 2542, 670, 4, 81, 5417, 6785, 4, 47, 1393, 36]]\n",
      "target\n",
      "decoder  [[5017, 3, 1311, 4823, 3482, 1218, 473, 2582, 11, 2], [39, 1002, 83, 2303, 122, 5, 181, 3, 5416, 2], [394, 1219, 644, 3, 2036, 271, 1890, 131, 117, 590, 2], [886, 65, 299, 24, 46, 1099, 520, 6461, 3, 146, 2], [2542, 670, 4, 81, 5417, 6785, 4, 47, 1393, 36, 2]]\n"
     ]
    }
   ],
   "source": [
    "tar_vocab = 10000\n",
    "tar_tokenizer = Tokenizer(num_words = tar_vocab) \n",
    "tar_tokenizer.fit_on_texts(decoder_input_train)\n",
    "tar_tokenizer.fit_on_texts(decoder_target_train)\n",
    "\n",
    "decoder_input_train = tar_tokenizer.texts_to_sequences(decoder_input_train) \n",
    "decoder_target_train = tar_tokenizer.texts_to_sequences(decoder_target_train)\n",
    "decoder_input_test = tar_tokenizer.texts_to_sequences(decoder_input_test)\n",
    "decoder_target_test = tar_tokenizer.texts_to_sequences(decoder_target_test)\n",
    "\n",
    "print('input')\n",
    "print('input ',decoder_input_train[:5])\n",
    "print('target')\n",
    "print('decoder ',decoder_target_train[:5])"
   ]
  },
  {
   "cell_type": "markdown",
   "id": "focused-berlin",
   "metadata": {},
   "source": [
    "* 등장 빈도가 threshold 보다 적은 단어들을 제외한 단어 집합의 크기가 10,423개 이므로, 단어 집합의 크기를 10,000으로 설정\n",
    "* 단어 집합의 크기를 이용하여, 단어 집합을 재생성\n",
    "* 텍스트 시퀀스를 정수 시퀀스로 변환하고, 샘플을 출력하여 확인"
   ]
  },
  {
   "cell_type": "code",
   "execution_count": 33,
   "id": "popular-dallas",
   "metadata": {},
   "outputs": [
    {
     "name": "stdout",
     "output_type": "stream",
     "text": [
      "삭제할 훈련 데이터의 개수 : 1\n",
      "삭제할 테스트 데이터의 개수 : 0\n",
      "훈련 데이터의 개수 : 78290\n",
      "훈련 레이블의 개수 : 78290\n",
      "테스트 데이터의 개수 : 19572\n",
      "테스트 레이블의 개수 : 19572\n"
     ]
    },
    {
     "name": "stderr",
     "output_type": "stream",
     "text": [
      "/opt/conda/lib/python3.7/site-packages/numpy/core/_asarray.py:83: VisibleDeprecationWarning: Creating an ndarray from ragged nested sequences (which is a list-or-tuple of lists-or-tuples-or ndarrays with different lengths or shapes) is deprecated. If you meant to do this, you must specify 'dtype=object' when creating the ndarray\n",
      "  return array(a, dtype, copy=False, order=order)\n"
     ]
    }
   ],
   "source": [
    "drop_train = [index for index, sentence in enumerate(decoder_input_train) if len(sentence) == 1]\n",
    "drop_test = [index for index, sentence in enumerate(decoder_input_test) if len(sentence) == 1]\n",
    "\n",
    "print('삭제할 훈련 데이터의 개수 :',len(drop_train))\n",
    "print('삭제할 테스트 데이터의 개수 :',len(drop_test))\n",
    "\n",
    "encoder_input_train = np.delete(encoder_input_train, drop_train, axis=0)\n",
    "decoder_input_train = np.delete(decoder_input_train, drop_train, axis=0)\n",
    "decoder_target_train = np.delete(decoder_target_train, drop_train, axis=0)\n",
    "\n",
    "encoder_input_test = np.delete(encoder_input_test, drop_test, axis=0)\n",
    "decoder_input_test = np.delete(decoder_input_test, drop_test, axis=0)\n",
    "decoder_target_test = np.delete(decoder_target_test, drop_test, axis=0)\n",
    "\n",
    "print('훈련 데이터의 개수 :',len(encoder_input_train))\n",
    "print('훈련 레이블의 개수 :',len(decoder_input_train))\n",
    "print('테스트 데이터의 개수 :',len(encoder_input_test))\n",
    "print('테스트 레이블의 개수 :',len(decoder_input_test))"
   ]
  },
  {
   "cell_type": "markdown",
   "id": "ordinary-lebanon",
   "metadata": {},
   "source": [
    "* 요약문의 길이가 1인 경우 삭제"
   ]
  },
  {
   "cell_type": "code",
   "execution_count": 34,
   "id": "functioning-reason",
   "metadata": {},
   "outputs": [],
   "source": [
    "encoder_input_train = pad_sequences(encoder_input_train, maxlen = text_max_len, padding='post')\n",
    "encoder_input_test = pad_sequences(encoder_input_test, maxlen = text_max_len, padding='post')\n",
    "decoder_input_train = pad_sequences(decoder_input_train, maxlen = headlines_max_len, padding='post')\n",
    "decoder_target_train = pad_sequences(decoder_target_train, maxlen = headlines_max_len, padding='post')\n",
    "decoder_input_test = pad_sequences(decoder_input_test, maxlen = headlines_max_len, padding='post')\n",
    "decoder_target_test = pad_sequences(decoder_target_test, maxlen = headlines_max_len, padding='post')"
   ]
  },
  {
   "cell_type": "markdown",
   "id": "tracked-memorabilia",
   "metadata": {},
   "source": [
    "* 서로 다른 길이의 샘플들을 병렬 처리하기 위해서, 패딩을 이용하여 같은 길이로 맞춰주는 작업을 진행"
   ]
  },
  {
   "cell_type": "markdown",
   "id": "lesbian-trading",
   "metadata": {},
   "source": [
    "## 5. 모델 설계하기"
   ]
  },
  {
   "cell_type": "code",
   "execution_count": 35,
   "id": "spiritual-valuation",
   "metadata": {},
   "outputs": [
    {
     "name": "stdout",
     "output_type": "stream",
     "text": [
      "WARNING:tensorflow:Layer lstm will not use cuDNN kernel since it doesn't meet the cuDNN kernel criteria. It will use generic GPU kernel as fallback when running on GPU\n",
      "WARNING:tensorflow:Layer lstm_1 will not use cuDNN kernel since it doesn't meet the cuDNN kernel criteria. It will use generic GPU kernel as fallback when running on GPU\n",
      "WARNING:tensorflow:Layer lstm_2 will not use cuDNN kernel since it doesn't meet the cuDNN kernel criteria. It will use generic GPU kernel as fallback when running on GPU\n"
     ]
    }
   ],
   "source": [
    "from tensorflow.keras.layers import Input, LSTM, Embedding, Dense, Concatenate\n",
    "from tensorflow.keras.models import Model\n",
    "from tensorflow.keras.callbacks import EarlyStopping, ModelCheckpoint\n",
    "\n",
    "# 인코더 설계 시작\n",
    "embedding_dim = 128\n",
    "hidden_size = 256\n",
    "\n",
    "# 인코더\n",
    "encoder_inputs = Input(shape=(text_max_len,))\n",
    "\n",
    "# 인코더의 임베딩 층\n",
    "enc_emb = Embedding(src_vocab, embedding_dim)(encoder_inputs)\n",
    "\n",
    "# 인코더의 LSTM 1\n",
    "encoder_lstm1 = LSTM(hidden_size, return_sequences=True, return_state=True, dropout = 0.4, recurrent_dropout = 0.4)\n",
    "encoder_output1, state_h1, state_c1 = encoder_lstm1(enc_emb)\n",
    "\n",
    "# 인코더의 LSTM 2\n",
    "encoder_lstm2 = LSTM(hidden_size, return_sequences=True, return_state=True, dropout=0.4, recurrent_dropout=0.4)\n",
    "encoder_output2, state_h2, state_c2 = encoder_lstm2(encoder_output1)\n",
    "\n",
    "# 인코더의 LSTM 3\n",
    "encoder_lstm3 = LSTM(hidden_size, return_state=True, return_sequences=True, dropout=0.4, recurrent_dropout=0.4)\n",
    "encoder_outputs, state_h, state_c= encoder_lstm3(encoder_output2)"
   ]
  },
  {
   "cell_type": "markdown",
   "id": "related-appliance",
   "metadata": {},
   "source": [
    "* 임베딩 벡터의 차원을 128로 정의하고, hidden state의 크기를 256으로 정의\n",
    "* 이후, 인코더 부분의 LSTM은 총 3개의 층으로 구성\n",
    "* 인코더의 최종 출력 벡터는 디코더로 보낼 예정"
   ]
  },
  {
   "cell_type": "code",
   "execution_count": 36,
   "id": "established-preview",
   "metadata": {},
   "outputs": [
    {
     "name": "stdout",
     "output_type": "stream",
     "text": [
      "WARNING:tensorflow:Layer lstm_3 will not use cuDNN kernel since it doesn't meet the cuDNN kernel criteria. It will use generic GPU kernel as fallback when running on GPU\n"
     ]
    }
   ],
   "source": [
    "# 디코더 설계\n",
    "decoder_inputs = Input(shape=(None,))\n",
    "\n",
    "# 디코더의 임베딩 층\n",
    "dec_emb_layer = Embedding(tar_vocab, embedding_dim)\n",
    "dec_emb = dec_emb_layer(decoder_inputs)\n",
    "\n",
    "# 디코더의 LSTM\n",
    "decoder_lstm = LSTM(hidden_size, return_sequences = True, return_state = True, dropout = 0.4, recurrent_dropout=0.2)\n",
    "decoder_outputs, _, _ = decoder_lstm(dec_emb, initial_state = [state_h, state_c])"
   ]
  },
  {
   "cell_type": "markdown",
   "id": "cutting-compound",
   "metadata": {},
   "source": [
    "* 디코더의 임베딩 층을 설계하는 것은 인코더와 동일\n",
    "* LSTM 층은 initial_state의 인자값으로 인코더의 hidden state와 cell state의 값을 넣어줌"
   ]
  },
  {
   "cell_type": "code",
   "execution_count": 37,
   "id": "operating-conservation",
   "metadata": {},
   "outputs": [],
   "source": [
    "urllib.request.urlretrieve(\"https://raw.githubusercontent.com/thushv89/attention_keras/master/src/layers/attention.py\", filename=\"attention.py\")\n",
    "from attention import AttentionLayer"
   ]
  },
  {
   "cell_type": "markdown",
   "id": "exciting-success",
   "metadata": {},
   "source": [
    "* model에서 어텐션 함수를 이용할 예정이므로, 어텐션 함수를 다운로드"
   ]
  },
  {
   "cell_type": "code",
   "execution_count": 38,
   "id": "center-emperor",
   "metadata": {},
   "outputs": [
    {
     "name": "stdout",
     "output_type": "stream",
     "text": [
      "Model: \"model\"\n",
      "__________________________________________________________________________________________________\n",
      "Layer (type)                    Output Shape         Param #     Connected to                     \n",
      "==================================================================================================\n",
      "input_1 (InputLayer)            [(None, 45)]         0                                            \n",
      "__________________________________________________________________________________________________\n",
      "embedding (Embedding)           (None, 45, 128)      2560000     input_1[0][0]                    \n",
      "__________________________________________________________________________________________________\n",
      "lstm (LSTM)                     [(None, 45, 256), (N 394240      embedding[0][0]                  \n",
      "__________________________________________________________________________________________________\n",
      "input_2 (InputLayer)            [(None, None)]       0                                            \n",
      "__________________________________________________________________________________________________\n",
      "lstm_1 (LSTM)                   [(None, 45, 256), (N 525312      lstm[0][0]                       \n",
      "__________________________________________________________________________________________________\n",
      "embedding_1 (Embedding)         (None, None, 128)    1280000     input_2[0][0]                    \n",
      "__________________________________________________________________________________________________\n",
      "lstm_2 (LSTM)                   [(None, 45, 256), (N 525312      lstm_1[0][0]                     \n",
      "__________________________________________________________________________________________________\n",
      "lstm_3 (LSTM)                   [(None, None, 256),  394240      embedding_1[0][0]                \n",
      "                                                                 lstm_2[0][1]                     \n",
      "                                                                 lstm_2[0][2]                     \n",
      "__________________________________________________________________________________________________\n",
      "attention_layer (AttentionLayer ((None, None, 256),  131328      lstm_2[0][0]                     \n",
      "                                                                 lstm_3[0][0]                     \n",
      "__________________________________________________________________________________________________\n",
      "concat_layer (Concatenate)      (None, None, 512)    0           lstm_3[0][0]                     \n",
      "                                                                 attention_layer[0][0]            \n",
      "__________________________________________________________________________________________________\n",
      "dense (Dense)                   (None, None, 10000)  5130000     concat_layer[0][0]               \n",
      "==================================================================================================\n",
      "Total params: 10,940,432\n",
      "Trainable params: 10,940,432\n",
      "Non-trainable params: 0\n",
      "__________________________________________________________________________________________________\n"
     ]
    }
   ],
   "source": [
    "# 어텐션 층(어텐션 함수)\n",
    "attn_layer = AttentionLayer(name='attention_layer')\n",
    "# 인코더와 디코더의 모든 time step의 hidden state를 어텐션 층에 전달하고 결과를 리턴\n",
    "attn_out, attn_states = attn_layer([encoder_outputs, decoder_outputs])\n",
    "\n",
    "# 어텐션의 결과와 디코더의 hidden state들을 연결\n",
    "decoder_concat_input = Concatenate(axis = -1, name='concat_layer')([decoder_outputs, attn_out])\n",
    "\n",
    "# 디코더의 출력층\n",
    "decoder_softmax_layer = Dense(tar_vocab, activation='softmax')\n",
    "decoder_softmax_outputs = decoder_softmax_layer(decoder_concat_input)\n",
    "\n",
    "# 모델 정의\n",
    "model = Model([encoder_inputs, decoder_inputs], decoder_softmax_outputs)\n",
    "model.summary()"
   ]
  },
  {
   "cell_type": "markdown",
   "id": "cosmetic-nylon",
   "metadata": {},
   "source": [
    "* 인코더의 hidden state들과 디코더의 hidden state들을 어텐션 함수의 입력으로 이용\n",
    "* 어텐션 함수가 리턴한 값을 예측 시에 디코더의 hidden state와 함께 활용하는 형태로 작동"
   ]
  },
  {
   "cell_type": "markdown",
   "id": "dedicated-product",
   "metadata": {},
   "source": [
    "## 6. 모델 훈련하기"
   ]
  },
  {
   "cell_type": "code",
   "execution_count": 39,
   "id": "northern-cache",
   "metadata": {},
   "outputs": [
    {
     "name": "stdout",
     "output_type": "stream",
     "text": [
      "Epoch 1/50\n",
      "153/153 [==============================] - 163s 985ms/step - loss: 5.8887 - val_loss: 5.0055\n",
      "Epoch 2/50\n",
      "153/153 [==============================] - 150s 983ms/step - loss: 4.9778 - val_loss: 4.7495\n",
      "Epoch 3/50\n",
      "153/153 [==============================] - 150s 982ms/step - loss: 4.7066 - val_loss: 4.4807\n",
      "Epoch 4/50\n",
      "153/153 [==============================] - 151s 986ms/step - loss: 4.4215 - val_loss: 4.2504\n",
      "Epoch 5/50\n",
      "153/153 [==============================] - 151s 988ms/step - loss: 4.1790 - val_loss: 4.1038\n",
      "Epoch 6/50\n",
      "153/153 [==============================] - 150s 981ms/step - loss: 3.9955 - val_loss: 3.9760\n",
      "Epoch 7/50\n",
      "153/153 [==============================] - 151s 986ms/step - loss: 3.8373 - val_loss: 3.8823\n",
      "Epoch 8/50\n",
      "153/153 [==============================] - 151s 988ms/step - loss: 3.7061 - val_loss: 3.7971\n",
      "Epoch 9/50\n",
      "153/153 [==============================] - 151s 985ms/step - loss: 3.5877 - val_loss: 3.7303\n",
      "Epoch 10/50\n",
      "153/153 [==============================] - 150s 983ms/step - loss: 3.4773 - val_loss: 3.6745\n",
      "Epoch 11/50\n",
      "153/153 [==============================] - 151s 987ms/step - loss: 3.3811 - val_loss: 3.6213\n",
      "Epoch 12/50\n",
      "153/153 [==============================] - 151s 988ms/step - loss: 3.2879 - val_loss: 3.5781\n",
      "Epoch 13/50\n",
      "153/153 [==============================] - 151s 990ms/step - loss: 3.2110 - val_loss: 3.5422\n",
      "Epoch 14/50\n",
      "153/153 [==============================] - 151s 984ms/step - loss: 3.1332 - val_loss: 3.5114\n",
      "Epoch 15/50\n",
      "153/153 [==============================] - 151s 988ms/step - loss: 3.0595 - val_loss: 3.4833\n",
      "Epoch 16/50\n",
      "153/153 [==============================] - 150s 983ms/step - loss: 2.9956 - val_loss: 3.4585\n",
      "Epoch 17/50\n",
      "153/153 [==============================] - 151s 988ms/step - loss: 2.9331 - val_loss: 3.4383\n",
      "Epoch 18/50\n",
      "153/153 [==============================] - 151s 987ms/step - loss: 2.8749 - val_loss: 3.4230\n",
      "Epoch 19/50\n",
      "153/153 [==============================] - 151s 989ms/step - loss: 2.8258 - val_loss: 3.4111\n",
      "Epoch 20/50\n",
      "153/153 [==============================] - 151s 986ms/step - loss: 2.7791 - val_loss: 3.3920\n",
      "Epoch 21/50\n",
      "153/153 [==============================] - 151s 986ms/step - loss: 2.7210 - val_loss: 3.3789\n",
      "Epoch 22/50\n",
      "153/153 [==============================] - 151s 985ms/step - loss: 2.6829 - val_loss: 3.3720\n",
      "Epoch 23/50\n",
      "153/153 [==============================] - 151s 987ms/step - loss: 2.6372 - val_loss: 3.3694\n",
      "Epoch 24/50\n",
      "153/153 [==============================] - 149s 974ms/step - loss: 2.5912 - val_loss: 3.3580\n",
      "Epoch 25/50\n",
      "153/153 [==============================] - 149s 972ms/step - loss: 2.5574 - val_loss: 3.3534\n",
      "Epoch 26/50\n",
      "153/153 [==============================] - 148s 966ms/step - loss: 2.5134 - val_loss: 3.3499\n",
      "Epoch 27/50\n",
      "153/153 [==============================] - 147s 963ms/step - loss: 2.4786 - val_loss: 3.3503\n",
      "Epoch 28/50\n",
      "153/153 [==============================] - 146s 956ms/step - loss: 2.4438 - val_loss: 3.3456\n",
      "Epoch 29/50\n",
      "153/153 [==============================] - 147s 960ms/step - loss: 2.4146 - val_loss: 3.3408\n",
      "Epoch 30/50\n",
      "153/153 [==============================] - 146s 953ms/step - loss: 2.3863 - val_loss: 3.3427\n",
      "Epoch 31/50\n",
      "153/153 [==============================] - 147s 958ms/step - loss: 2.3536 - val_loss: 3.3402\n",
      "Epoch 32/50\n",
      "153/153 [==============================] - 146s 954ms/step - loss: 2.3178 - val_loss: 3.3492\n",
      "Epoch 33/50\n",
      "153/153 [==============================] - 147s 959ms/step - loss: 2.2899 - val_loss: 3.3406\n",
      "Epoch 00033: early stopping\n"
     ]
    }
   ],
   "source": [
    "model.compile(optimizer='rmsprop', loss='sparse_categorical_crossentropy')\n",
    "es = EarlyStopping(monitor='val_loss', mode='min', patience = 2, verbose=1)\n",
    "history = model.fit(x = [encoder_input_train, decoder_input_train], y = decoder_target_train, \\\n",
    "          validation_data = ([encoder_input_test, decoder_input_test], decoder_target_test),\n",
    "          batch_size = 512, callbacks=[es], epochs = 50)"
   ]
  },
  {
   "cell_type": "markdown",
   "id": "drawn-working",
   "metadata": {},
   "source": [
    "* 설계한 model을 훈련\n",
    "* early stopping 기능을 이용하여, validation loss가 증가하는 현상이 2회 관측될 시, 학습을 종료\n",
    "* 최종적으로, model이 최적점에서 훈련을 종료하는 역할을 수행\n",
    "* model의 loss는 약 2.2899이지만, validation loss는 3.3406으로 둘 사이의 격차가 큼"
   ]
  },
  {
   "cell_type": "code",
   "execution_count": 40,
   "id": "curious-avenue",
   "metadata": {},
   "outputs": [
    {
     "data": {
      "image/png": "[encoded data removed]",
      "text/plain": [
       "<Figure size 432x288 with 1 Axes>"
      ]
     },
     "metadata": {
      "needs_background": "light"
     },
     "output_type": "display_data"
    }
   ],
   "source": [
    "plt.plot(history.history['loss'], label='train')\n",
    "plt.plot(history.history['val_loss'], label='test')\n",
    "plt.legend()\n",
    "plt.show()"
   ]
  },
  {
   "cell_type": "markdown",
   "id": "numerical-romania",
   "metadata": {},
   "source": [
    "* 훈련 데이터와 테스트 데이터의 loss를 시각화\n",
    "* 훈련 데이터와 테스트 데이터 loss의 격차를 보면, 훈련 데이터가 overfitting이 되었다고 판단할 수 있음"
   ]
  },
  {
   "cell_type": "markdown",
   "id": "annual-strain",
   "metadata": {},
   "source": [
    "## 7. 모델 테스트하기"
   ]
  },
  {
   "cell_type": "code",
   "execution_count": 41,
   "id": "rotary-latitude",
   "metadata": {},
   "outputs": [],
   "source": [
    "src_index_to_word = src_tokenizer.index_word # 원문 단어 집합에서 정수 -> 단어를 얻음\n",
    "tar_word_to_index = tar_tokenizer.word_index # 요약 단어 집합에서 단어 -> 정수를 얻음\n",
    "tar_index_to_word = tar_tokenizer.index_word # 요약 단어 집합에서 정수 -> 단어를 얻음"
   ]
  },
  {
   "cell_type": "markdown",
   "id": "small-somewhere",
   "metadata": {},
   "source": [
    "* 정수 인덱스 행렬로 존재하는 텍스트 데이터를 실제 데이터로 복원할때 사용할 3개의 사전을 준비"
   ]
  },
  {
   "cell_type": "code",
   "execution_count": 42,
   "id": "encouraging-teaching",
   "metadata": {},
   "outputs": [],
   "source": [
    "encoder_model = Model(inputs=encoder_inputs, outputs=[encoder_outputs, state_h, state_c])\n",
    "\n",
    "decoder_state_input_h = Input(shape=(hidden_size,))\n",
    "decoder_state_input_c = Input(shape=(hidden_size,))\n",
    "\n",
    "dec_emb2 = dec_emb_layer(decoder_inputs)\n",
    "\n",
    "decoder_outputs2, state_h2, state_c2 = decoder_lstm(dec_emb2, initial_state=[decoder_state_input_h, decoder_state_input_c])"
   ]
  },
  {
   "cell_type": "markdown",
   "id": "working-lindsay",
   "metadata": {},
   "source": [
    "* 훈련과 달리 인퍼런스 단계에서는 만들어야 할 문장의 길이만큼 디코더가 반복적으로 동작해야함\n",
    "* 따라서 인퍼런스를 위한 모델을 별도로 설계\n",
    "* 이때는, 인코더 모델과 디코더 모델을 분리하여 설계해야함"
   ]
  },
  {
   "cell_type": "code",
   "execution_count": 43,
   "id": "dressed-hardwood",
   "metadata": {},
   "outputs": [],
   "source": [
    "decoder_hidden_state_input = Input(shape=(text_max_len, hidden_size))\n",
    "attn_out_inf, attn_states_inf = attn_layer([decoder_hidden_state_input, decoder_outputs2])\n",
    "decoder_inf_concat = Concatenate(axis=-1, name='concat')([decoder_outputs2, attn_out_inf])\n",
    "\n",
    "decoder_outputs2 = decoder_softmax_layer(decoder_inf_concat) \n",
    "\n",
    "decoder_model = Model(\n",
    "    [decoder_inputs] + [decoder_hidden_state_input,decoder_state_input_h, decoder_state_input_c],\n",
    "    [decoder_outputs2] + [state_h2, state_c2])"
   ]
  },
  {
   "cell_type": "markdown",
   "id": "loaded-turning",
   "metadata": {},
   "source": [
    "* 어텐션 함수를 사용하는 출력층을 설계"
   ]
  },
  {
   "cell_type": "code",
   "execution_count": 44,
   "id": "violent-prize",
   "metadata": {},
   "outputs": [],
   "source": [
    "# 인퍼런스 단계에서 단어 시퀀스를 완성하는 함수\n",
    "def decode_sequence(input_seq):\n",
    "    # 입력으로부터 인코더의 상태를 얻음\n",
    "    e_out, e_h, e_c = encoder_model.predict(input_seq)\n",
    "\n",
    "    # <SOS>에 해당하는 토큰 생성\n",
    "    target_seq = np.zeros((1,1))\n",
    "    target_seq[0, 0] = tar_word_to_index['sostoken']\n",
    "\n",
    "    stop_condition = False\n",
    "    decoded_sentence = ''\n",
    "    while not stop_condition: # stop_condition이 True가 될 때까지 루프 반복\n",
    "\n",
    "        output_tokens, h, c = decoder_model.predict([target_seq] + [e_out, e_h, e_c])\n",
    "        sampled_token_index = np.argmax(output_tokens[0, -1, :])\n",
    "        sampled_token = tar_index_to_word[sampled_token_index]\n",
    "\n",
    "        if (sampled_token!='eostoken'):\n",
    "            decoded_sentence += ' '+sampled_token\n",
    "\n",
    "        #  <eos>에 도달하거나 최대 길이를 넘으면 중단.\n",
    "        if (sampled_token == 'eostoken' or len(decoded_sentence.split()) >= (headlines_max_len-1)):\n",
    "            stop_condition = True\n",
    "\n",
    "        # 길이가 1인 타겟 시퀀스를 업데이트\n",
    "        target_seq = np.zeros((1,1))\n",
    "        target_seq[0, 0] = sampled_token_index\n",
    "\n",
    "        # 상태를 업데이트 합니다.\n",
    "        e_h, e_c = h, c\n",
    "\n",
    "    return decoded_sentence"
   ]
  },
  {
   "cell_type": "markdown",
   "id": "industrial-venture",
   "metadata": {},
   "source": [
    "* 인퍼런스 단계에서 단어 시퀀스를 완성하는 함수"
   ]
  },
  {
   "cell_type": "code",
   "execution_count": 45,
   "id": "classical-certificate",
   "metadata": {},
   "outputs": [],
   "source": [
    "def seq2text(input_seq):\n",
    "    temp=''\n",
    "    for i in input_seq:\n",
    "        if(i!=0):\n",
    "            temp = temp + src_index_to_word[i]+' '\n",
    "    return temp\n",
    "\n",
    "def seq2summary(input_seq):\n",
    "    temp=''\n",
    "    for i in input_seq:\n",
    "        if((i!=0 and i!=tar_word_to_index['sostoken']) and i!=tar_word_to_index['eostoken']):\n",
    "            temp = temp + tar_index_to_word[i] + ' '\n",
    "    return temp"
   ]
  },
  {
   "cell_type": "markdown",
   "id": "early-trinity",
   "metadata": {},
   "source": [
    "* 정수 시퀀스를 텍스트 시퀀스로 변환하는 함수\n",
    "* text의 경우, 패딩을 위해 사용한 숫자 0을 제외\n",
    "* headlines의 경우, 숫자 0, 시작 토큰, 종료 토큰의 인덱스를 출력에서 제외"
   ]
  },
  {
   "cell_type": "code",
   "execution_count": 46,
   "id": "adapted-alias",
   "metadata": {},
   "outputs": [
    {
     "name": "stdout",
     "output_type": "stream",
     "text": [
      "원문 : hollywood actor sylvester stallone talking rambo hindi remake wrote sure tiger put heart soul derivatives always one eye tiger us cubs rule jungle tiger responded stallone played lead rambo series four films \n",
      "실제 요약 : tiger will put his heart soul into remake sylvester \n",
      "예측 요약 :  was not just just just so much on my life wars huma\n",
      "\n",
      "\n",
      "원문 : large sized enterprise india loses average million annually owing cyber attacks microsoft led study said wednesday cybersecurity attacks also result job losses across different functions three five organisations study added companies face risk significant financial loss market reputation microsoft official said \n",
      "실제 요약 : cyber attacks cost big indian firms mn year microsoft \n",
      "예측 요약 :  india opens bn in china over data breach\n",
      "\n",
      "\n",
      "원문 : people believe halloween celebrated october festival celebrated towards end harvest season believed barrier spirit living world time later christian religion halloween came called eve \n",
      "실제 요약 : what is the origin of halloween \n",
      "예측 요약 :  there is red fort celebrated on day\n",
      "\n",
      "\n",
      "원문 : hours promoting creation cyber security unit russia prevent election hacking us president donald trump proposal tweeting think happen proposal prompted criticism us senators said russia could trusted alleged meddling last year us presidential elections \n",
      "실제 요약 : trump on us russia cyber security unit proposal \n",
      "예측 요약 :  us sends trump to trump over russia\n",
      "\n",
      "\n",
      "원문 : brother sister duo written pm narendra modi seeking help exchange demonetised currency worth discovered earlier march brother sister staying shelter home notes discovered cops surveyed locked house amount late mother life long saving official said \n",
      "실제 요약 : siblings seek pm help to exchange in old notes \n",
      "예측 요약 :  pm modi meets jewellery family family found in us\n",
      "\n",
      "\n",
      "원문 : bcci legal cell said cricketers hardik pandya kl rahul comments women koffee karan fall code conduct ambit coa suspend conduct inquiry legal cell also recommended appointment ad investigate matter comes coa member diana edulji sought legal opinion \n",
      "실제 요약 : pandya rahul can be suspended till further action bcci legal cell \n",
      "예측 요약 :  bcci pandya kl rahul pandya in law to ban logistics ministry\n",
      "\n",
      "\n",
      "원문 : chinese couple found daughter years went missing age three father became taxi driver asked passengers spread word online news spread media outlets covered story girl got touch dna evidence proved daughter \n",
      "실제 요약 : chinese couple finds missing daughter after years \n",
      "예측 요약 :  chinese couple finds cancer in china\n",
      "\n",
      "\n",
      "원문 : researchers massachusetts institute technology developed device allows users control sleep device detects user falling asleep playing reminder researchers claim allow humans study sleep claim state mind vital memory learning creativity \n",
      "실제 요약 : device which allows users to control their sleep developed \n",
      "예측 요약 :  device that can detect cancer in real time made\n",
      "\n",
      "\n",
      "원문 : taapsee pannu recently trolled posting pictures bikini said suddenly wearing bikini become indian culture times actresses used wear really small bikini people used worship added taapsee said believe body wear bikini go ahead \n",
      "실제 요약 : wearing bikini is against indian culture taapsee \n",
      "예측 요약 :  taapsee apologises for wearing gigi hadid on instagram\n",
      "\n",
      "\n",
      "원문 : kiara advani playing female lead shahid kapoor arjun reddy tara sutaria exit per reports tara quit film release date debut film student year postponed reports suggested film hindi remake telugu film arjun reddy release june \n",
      "실제 요약 : kiara to star in arjun reddy after tara exit reports \n",
      "예측 요약 :  kiara to star opposite shahid in upcoming film reports\n",
      "\n",
      "\n"
     ]
    }
   ],
   "source": [
    "for i in range(10):\n",
    "    print(\"원문 :\", seq2text(encoder_input_test[i]))\n",
    "    print(\"실제 요약 :\", seq2summary(decoder_input_test[i]))\n",
    "    print(\"예측 요약 :\", decode_sequence(encoder_input_test[i].reshape(1, text_max_len)))\n",
    "    print(\"\\n\")"
   ]
  },
  {
   "cell_type": "markdown",
   "id": "automotive-fisher",
   "metadata": {},
   "source": [
    "* 10개의 샘플을 출력하여, 실제 headlines와 예측된 headlines를 비교\n",
    "* 일부 샘플에 대해서는, 실제 headlines와 비슷한 headlines를 예측\n",
    "* 실제 headlines에서는 사용하지 않은 단어를 이용하여 예측한 headlines도 존재\n",
    "* 그러나, 일부 샘플에 대해서 좋지 않은 예측을 보이는 샘플도 존재\n",
    "* 따라서, 모델의 성능 개선이 필요"
   ]
  },
  {
   "cell_type": "markdown",
   "id": "unable-crash",
   "metadata": {},
   "source": [
    "## 8. 추출적 요약"
   ]
  },
  {
   "cell_type": "code",
   "execution_count": 47,
   "id": "ignored-charlotte",
   "metadata": {},
   "outputs": [],
   "source": [
    "from summa.summarizer import summarize\n",
    "import urllib.request\n",
    "\n",
    "urllib.request.urlretrieve(\"https://raw.githubusercontent.com/sunnysai12345/News_Summary/master/news_summary_more.csv\", filename=\"news_summary_more.csv\")\n",
    "data = pd.read_csv('news_summary_more.csv', encoding='iso-8859-1')"
   ]
  },
  {
   "cell_type": "markdown",
   "id": "dangerous-respect",
   "metadata": {},
   "source": [
    "* 앞서 seq2seq를 이용한 추상적 요약이 아닌, Summa 패키지를 이용한 추출적 요약을 진행\n",
    "* Summa의 summarizer 모듈을 이용\n",
    "* 매트릭스 시놉시스를 다운로드"
   ]
  },
  {
   "cell_type": "code",
   "execution_count": 48,
   "id": "flush-warrant",
   "metadata": {},
   "outputs": [],
   "source": [
    "data['summary'] = data['text'].apply(lambda x: summarize(x, ratio=0.5))"
   ]
  },
  {
   "cell_type": "markdown",
   "id": "wanted-employer",
   "metadata": {},
   "source": [
    "* summarize을 이용하여 만든 추출적 요약을 dataframe에 추가"
   ]
  },
  {
   "cell_type": "code",
   "execution_count": 49,
   "id": "developed-correlation",
   "metadata": {},
   "outputs": [
    {
     "data": {
      "text/html": [
       "<div>\n",
       "<style scoped>\n",
       "    .dataframe tbody tr th:only-of-type {\n",
       "        vertical-align: middle;\n",
       "    }\n",
       "\n",
       "    .dataframe tbody tr th {\n",
       "        vertical-align: top;\n",
       "    }\n",
       "\n",
       "    .dataframe thead th {\n",
       "        text-align: right;\n",
       "    }\n",
       "</style>\n",
       "<table border=\"1\" class=\"dataframe\">\n",
       "  <thead>\n",
       "    <tr style=\"text-align: right;\">\n",
       "      <th></th>\n",
       "      <th>headlines</th>\n",
       "      <th>text</th>\n",
       "      <th>summary</th>\n",
       "    </tr>\n",
       "  </thead>\n",
       "  <tbody>\n",
       "    <tr>\n",
       "      <th>41789</th>\n",
       "      <td>Kim Jong-un invites Chinese President to visit...</td>\n",
       "      <td>North Korean leader Kim Jong-un invited China'...</td>\n",
       "      <td>North Korean leader Kim Jong-un invited China'...</td>\n",
       "    </tr>\n",
       "    <tr>\n",
       "      <th>58375</th>\n",
       "      <td>No evidence Pak knew about Osama bin Laden's p...</td>\n",
       "      <td>The US government had been able to find \"no ev...</td>\n",
       "      <td>The US government had been able to find \"no ev...</td>\n",
       "    </tr>\n",
       "    <tr>\n",
       "      <th>51173</th>\n",
       "      <td>Global IT spending to reach $3.7 trillion in 2...</td>\n",
       "      <td>Global IT spending is projected to rise 4.5% f...</td>\n",
       "      <td>Global IT spending is projected to rise 4.5% f...</td>\n",
       "    </tr>\n",
       "    <tr>\n",
       "      <th>55783</th>\n",
       "      <td>Virat Kohli asks Rohit Sharma to share 'double...</td>\n",
       "      <td>After Rohit Sharma offered Virat Kohli a 'husb...</td>\n",
       "      <td>After Rohit Sharma offered Virat Kohli a 'husb...</td>\n",
       "    </tr>\n",
       "    <tr>\n",
       "      <th>47741</th>\n",
       "      <td>SpaceX's satellite internet plan gets backing ...</td>\n",
       "      <td>The US Federal Communications Commission (FCC)...</td>\n",
       "      <td>The US Federal Communications Commission (FCC)...</td>\n",
       "    </tr>\n",
       "    <tr>\n",
       "      <th>85120</th>\n",
       "      <td>Indian football team registers its 8th consecu...</td>\n",
       "      <td>India defeated Kyrgyz Republic 1-0 in the AFC ...</td>\n",
       "      <td>Both teams struggled to find the net, before I...</td>\n",
       "    </tr>\n",
       "    <tr>\n",
       "      <th>94543</th>\n",
       "      <td>Drunk drivers may have to pay entire compensat...</td>\n",
       "      <td>As per the Motor Vehicles (Amendment) Bill int...</td>\n",
       "      <td>As per the Motor Vehicles (Amendment) Bill int...</td>\n",
       "    </tr>\n",
       "    <tr>\n",
       "      <th>23216</th>\n",
       "      <td>Boeing delays 1st crewed spacecraft test fligh...</td>\n",
       "      <td>Aerospace company Boeing has delayed its first...</td>\n",
       "      <td>Aerospace company Boeing has delayed its first...</td>\n",
       "    </tr>\n",
       "    <tr>\n",
       "      <th>20186</th>\n",
       "      <td>Move aside Sonam, family has 2 new fashion reb...</td>\n",
       "      <td>Sharing his sisters Anshula Kapoor and Khushi ...</td>\n",
       "      <td></td>\n",
       "    </tr>\n",
       "    <tr>\n",
       "      <th>19433</th>\n",
       "      <td>Rajasthan to cut teachers' salary if they miss...</td>\n",
       "      <td>Rajasthan's education department has warned th...</td>\n",
       "      <td>Rajasthan's education department has warned th...</td>\n",
       "    </tr>\n",
       "  </tbody>\n",
       "</table>\n",
       "</div>"
      ],
      "text/plain": [
       "                                               headlines  \\\n",
       "41789  Kim Jong-un invites Chinese President to visit...   \n",
       "58375  No evidence Pak knew about Osama bin Laden's p...   \n",
       "51173  Global IT spending to reach $3.7 trillion in 2...   \n",
       "55783  Virat Kohli asks Rohit Sharma to share 'double...   \n",
       "47741  SpaceX's satellite internet plan gets backing ...   \n",
       "85120  Indian football team registers its 8th consecu...   \n",
       "94543  Drunk drivers may have to pay entire compensat...   \n",
       "23216  Boeing delays 1st crewed spacecraft test fligh...   \n",
       "20186  Move aside Sonam, family has 2 new fashion reb...   \n",
       "19433  Rajasthan to cut teachers' salary if they miss...   \n",
       "\n",
       "                                                    text  \\\n",
       "41789  North Korean leader Kim Jong-un invited China'...   \n",
       "58375  The US government had been able to find \"no ev...   \n",
       "51173  Global IT spending is projected to rise 4.5% f...   \n",
       "55783  After Rohit Sharma offered Virat Kohli a 'husb...   \n",
       "47741  The US Federal Communications Commission (FCC)...   \n",
       "85120  India defeated Kyrgyz Republic 1-0 in the AFC ...   \n",
       "94543  As per the Motor Vehicles (Amendment) Bill int...   \n",
       "23216  Aerospace company Boeing has delayed its first...   \n",
       "20186  Sharing his sisters Anshula Kapoor and Khushi ...   \n",
       "19433  Rajasthan's education department has warned th...   \n",
       "\n",
       "                                                 summary  \n",
       "41789  North Korean leader Kim Jong-un invited China'...  \n",
       "58375  The US government had been able to find \"no ev...  \n",
       "51173  Global IT spending is projected to rise 4.5% f...  \n",
       "55783  After Rohit Sharma offered Virat Kohli a 'husb...  \n",
       "47741  The US Federal Communications Commission (FCC)...  \n",
       "85120  Both teams struggled to find the net, before I...  \n",
       "94543  As per the Motor Vehicles (Amendment) Bill int...  \n",
       "23216  Aerospace company Boeing has delayed its first...  \n",
       "20186                                                     \n",
       "19433  Rajasthan's education department has warned th...  "
      ]
     },
     "execution_count": 49,
     "metadata": {},
     "output_type": "execute_result"
    }
   ],
   "source": [
    "data.sample(10)"
   ]
  },
  {
   "cell_type": "markdown",
   "id": "eastern-crime",
   "metadata": {},
   "source": [
    "* dateframe에 추출적 요약 데이터가 정상적으로 추가되었는지 확인"
   ]
  },
  {
   "cell_type": "code",
   "execution_count": 50,
   "id": "transparent-police",
   "metadata": {},
   "outputs": [
    {
     "name": "stdout",
     "output_type": "stream",
     "text": [
      "원문 : Saurav Kant, an alumnus of upGrad and IIIT-B's PG Program in Machine learning and Artificial Intelligence, was a Sr Systems Engineer at Infosys with almost 5 years of work experience. The program and upGrad's 360-degree career support helped him transition to a Data Scientist at Tech Mahindra with 90% salary hike. upGrad's Online Power Learning has powered 3 lakh+ careers.\n",
      "실제 요약 : upGrad learner switches to career in ML & Al with 90% salary hike\n",
      "추출 요약 : upGrad's Online Power Learning has powered 3 lakh+ careers.\n",
      "\n",
      "\n",
      "원문 : Kunal Shah's credit card bill payment platform, CRED, gave users a chance to win free food from Swiggy for one year. Pranav Kaushik, a Delhi techie, bagged this reward after spending 2000 CRED coins. Users get one CRED coin per rupee of bill paid, which can be used to avail rewards from brands like Ixigo, BookMyShow, UberEats, Cult.Fit and more.\n",
      "실제 요약 : Delhi techie wins free food from Swiggy for one year on CRED\n",
      "추출 요약 : Users get one CRED coin per rupee of bill paid, which can be used to avail rewards from brands like Ixigo, BookMyShow, UberEats, Cult.Fit and more.\n",
      "\n",
      "\n",
      "원문 : New Zealand defeated India by 8 wickets in the fourth ODI at Hamilton on Thursday to win their first match of the five-match ODI series. India lost an international match under Rohit Sharma's captaincy after 12 consecutive victories dating back to March 2018. The match witnessed India getting all out for 92, their seventh lowest total in ODI cricket history.\n",
      "실제 요약 : New Zealand end Rohit Sharma-led India's 12-match winning streak\n",
      "추출 요약 : The match witnessed India getting all out for 92, their seventh lowest total in ODI cricket history.\n",
      "\n",
      "\n",
      "원문 : With Aegon Life iTerm Insurance plan, customers can enjoy tax benefits on your premiums paid and save up to Ã¢ÂÂ¹46,800^ on taxes. The plan provides life cover up to the age of 100 years. Also, customers have options to insure against Critical Illnesses, Disability and Accidental Death Benefit Rider with a life cover up to the age of 80 years.\n",
      "실제 요약 : Aegon life iTerm insurance plan helps customers save tax\n",
      "추출 요약 : Also, customers have options to insure against Critical Illnesses, Disability and Accidental Death Benefit Rider with a life cover up to the age of 80 years.\n",
      "\n",
      "\n",
      "원문 : Speaking about the sexual harassment allegations against Rajkumar Hirani, Sonam Kapoor said, \"I've known Hirani for many years...What if it's not true, the [#MeToo] movement will get derailed.\" \"In the #MeToo movement, I always believe a woman. But in this case, we need to reserve our judgment,\" she added. Hirani has been accused by an assistant who worked in 'Sanju'.\n",
      "실제 요약 : Have known Hirani for yrs, what if MeToo claims are not true: Sonam\n",
      "추출 요약 : Speaking about the sexual harassment allegations against Rajkumar Hirani, Sonam Kapoor said, \"I've known Hirani for many years...What if it's not true, the [#MeToo] movement will get derailed.\" \"In the #MeToo movement, I always believe a woman.\n",
      "\n",
      "\n",
      "원문 : Pakistani singer Rahat Fateh Ali Khan has denied receiving any notice from the Enforcement Directorate over allegedly smuggling foreign currency out of India. \"It would have been better if the authorities would have served the notice first if any and then publicised this,\" reads a press release issued on behalf of Rahat. The statement further called the allegation \"bizarre\".\n",
      "실제 요약 : Rahat Fateh Ali Khan denies getting notice for smuggling currency\n",
      "추출 요약 : Pakistani singer Rahat Fateh Ali Khan has denied receiving any notice from the Enforcement Directorate over allegedly smuggling foreign currency out of India.\n",
      "\n",
      "\n",
      "원문 : India recorded their lowest ODI total in New Zealand after getting all out for 92 runs in 30.5 overs in the fourth ODI at Hamilton on Thursday. Seven of India's batsmen were dismissed for single-digit scores, while their number ten batsman Yuzvendra Chahal top-scored with 18*(37). India's previous lowest ODI total in New Zealand was 108.\n",
      "실제 요약 : India get all out for 92, their lowest ODI total in New Zealand\n",
      "추출 요약 : India's previous lowest ODI total in New Zealand was 108.\n",
      "\n",
      "\n",
      "원문 : Weeks after ex-CBI Director Alok Verma told the Department of Personnel and Training to consider him retired, the Home Ministry asked him to join work on the last day of his fixed tenure as Director on Thursday. The ministry directed him to immediately join as DG, Fire Services, the post he was transferred to after his removal as CBI chief.\n",
      "실제 요약 : Govt directs Alok Verma to join work 1 day before his retirement\n",
      "추출 요약 : Weeks after ex-CBI Director Alok Verma told the Department of Personnel and Training to consider him retired, the Home Ministry asked him to join work on the last day of his fixed tenure as Director on Thursday.\n",
      "\n",
      "\n",
      "원문 : Andhra Pradesh CM N Chandrababu Naidu has said, \"When I met then US President Bill Clinton, I addressed him as Mr Clinton, not as 'sir'. (PM Narendra) Modi is my junior in politics...I addressed him as sir 10 times.\" \"I did this...to satisfy his ego in the hope that he will do justice to the state,\" he added.\n",
      "실제 요약 : Called PM Modi 'sir' 10 times to satisfy his ego: Andhra CM\n",
      "추출 요약 : Andhra Pradesh CM N Chandrababu Naidu has said, \"When I met then US President Bill Clinton, I addressed him as Mr Clinton, not as 'sir'.\n",
      "\n",
      "\n",
      "원문 : Congress candidate Shafia Zubair won the Ramgarh Assembly seat in Rajasthan, by defeating BJP's Sukhwant Singh with a margin of 12,228 votes in the bypoll. With this victory, Congress has taken its total to 100 seats in the 200-member assembly. The election to the Ramgarh seat was delayed due to the death of sitting MLA and BSP candidate Laxman Singh.\n",
      "실제 요약 : Cong wins Ramgarh bypoll in Rajasthan, takes total to 100 seats\n",
      "추출 요약 : Congress candidate Shafia Zubair won the Ramgarh Assembly seat in Rajasthan, by defeating BJP's Sukhwant Singh with a margin of 12,228 votes in the bypoll.\n",
      "\n",
      "\n"
     ]
    }
   ],
   "source": [
    "for i in range(10):\n",
    "    print(\"원문 :\", data['text'][i])\n",
    "    print(\"실제 요약 :\", data['headlines'][i])\n",
    "    print(\"추출 요약 :\", data['summary'][i])\n",
    "    print(\"\\n\")"
   ]
  },
  {
   "cell_type": "markdown",
   "id": "sunset-sentence",
   "metadata": {},
   "source": [
    "* 10개의 샘플을 출력하여, 실제 headlines와 추출적 요약 방법으로 예측한 headlines를 비교\n",
    "* 실제 headlines와는 다르지만, 어느 정도 원문을 잘 요약했다고 판단\n",
    "* 그러나, 내용과는 상관없이 보이는 문제는 예측된 headlines의 길이가 너무 길다고 판단\n",
    "* 이러한 문제는 summarize의 인자인 ratio를 줄이면 해결할 수 있음"
   ]
  },
  {
   "cell_type": "markdown",
   "id": "pointed-heath",
   "metadata": {},
   "source": [
    "## 9. 회고\n",
    "\n",
    "* model의 학습 결과를 보면, validation loss가 3.3406으로 큰 값을 가지며, loss와 validation loss 간의 격차가 큰 것을 확인할 수 있다. 아마도 model이 학습 데이터에 overfitting이 된 것이 아닌가 생각한다. 해당 노드에서 overfitting을 줄이기 위한 방법으로, 모델의 층을 늘리는 방법이 존재할 것 이다. 또는 hyperparameter를 조절하는 방법도 존재할 것이다. epoch 수를 늘리는 것은 early_stoping 기능으로 인해서 큰 의미는 없을 것으로 판단된다. 그러나, 이러한 방법들은 model의 성능을 드라마틱하게 향상시키지는 못할 것으로 예측된다. 그렇다면, 성능을 향상시키기 위해서 어떤 방법을 사용해야할까? 이전 NLP 노드에서 항상 고려하던 bidirectional LSTM을 사용해야 하는가? 이번 노드에서도 dropout을 적용시킬 수 있을까? model의 loss 수치 뿐만 아니라, model이 최종적으로 예측한 요약문들을 보면, 정말로 이 model을 신뢰할 수 있는가에 대해서도 의문이 든다. 글이라는 것은 보는 사람에 따라서 해석이 달라지고, 받아들이는 것이 달라진다고 생각한다. 이런 관점에서 본다면, NLP model을 얼마나 신뢰할 수 있을까? 어쩌면 이번 노드의 데이터가 영문이기 때문에, 내가 이해하지 못하는 것 일수도 있다. 그러나, 항상 NLP 노드를 진행하다보면 드는 의문점들은 비슷한 것 같다. model과 예측 결과에 대한 신뢰성. NLP에 흥미를 갖지 못하는 것도 이러한 궁금증이 해결되지 않았기 때문이라고 생각된다. 이러한 근본적인 의문을 해결할 수 있는 방법이 무엇일지 모르겠다.\n",
    "  \n",
    "---\n",
    "  \n",
    "* 추상적 요약의 경우, 원문과는 상관없는 엉뚱한 요약을 예측한 경우도 존재했다. 원문과 무관한 단어를 사용하는 경우도 존재했는데, 이런 예측이 출력된 이유는 잘 모르겠다. 어쩌면, 이러한 문제들이 하나씩 모여서 내가 NLP model를 신뢰할 수 없는 것이 아닌가 생각한다.\n",
    "   \n",
    "   \n",
    "* 반면, 추출적 요약의 경우, 원문에 있는 단어들을 가져오는 방식이기 때문에, 추상적 요약에 비해서 원문과 비슷했다. 문법적으로도 이상한 점을 크게 느끼지는 못했다. 그러나 예측된 요악문 자체를 보고 생각해보면, 원문의 핵심을 잘 요약했는가에 대한 의문이 생긴다. 그래도 상대적으로 요약을 잘 했고, 어느정도 키포인트를 잘 캐치했다고 생각이 든다.\n",
    "  \n",
    "  \n",
    "* 원문을 정확하게 요약해야 하는 경우라면 추출적 요약을 쓰는 것이 더 적합하다는 생각이 든다. 하지만, 실제로 요약이라는 것은 원문의 키포인트를 잘 캐치하고, 원문의 내용과 일치하는 내용이어야하며, 원문보다는 짧게 핵심을 잘 전달해야한다. 이런 기준에서 본다면 추상적 요약을 사용할 필요가 있는가에 대해서 의문이 든다.\n",
    "\n",
    "---\n",
    "   \n",
    "   \n",
    "* 개인적으로 NLP 노드는 진행할때마다 의문 투성이다. NLP의 필요성이나 중요성에 의문이 드는 것은 아니지만, 과연 model을 얼마나 신뢰할 수 있는가에 대해서 의문이 든다. NLP에 대한 의문들을 어떻게 해소할 수 있을지에 대해 고민을 해봤지만, 아직은 잘 모르겠다. 내가 CV에 관심이 있다고 하더라도, NLP에 대한 공부를 소홀히해서는 안될텐데... NLP에 대한 정보들을 더 많이 찾아봐야할 것 같다."
   ]
  },
  {
   "cell_type": "code",
   "execution_count": null,
   "id": "micro-cookbook",
   "metadata": {},
   "outputs": [],
   "source": []
  }
 ],
 "metadata": {
  "kernelspec": {
   "display_name": "Python 3",
   "language": "python",
   "name": "python3"
  },
  "language_info": {
   "codemirror_mode": {
    "name": "ipython",
    "version": 3
   },
   "file_extension": ".py",
   "mimetype": "text/x-python",
   "name": "python",
   "nbconvert_exporter": "python",
   "pygments_lexer": "ipython3",
   "version": "3.7.9"
  }
 },
 "nbformat": 4,
 "nbformat_minor": 5
}
